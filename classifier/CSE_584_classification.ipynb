{
  "cells": [
    {
      "cell_type": "code",
      "execution_count": null,
      "metadata": {
        "colab": {
          "base_uri": "https://localhost:8080/"
        },
        "id": "p6SMmOp4tA_0",
        "outputId": "fdef4dfb-7438-4f83-a3d5-3b397eb5f8bd"
      },
      "outputs": [
        {
          "name": "stdout",
          "output_type": "stream",
          "text": [
            "Mounted at /content/drive\n"
          ]
        }
      ],
      "source": [
        "from google.colab import drive\n",
        "drive.mount('/content/drive')"
      ]
    },
    {
      "cell_type": "code",
      "execution_count": null,
      "metadata": {
        "id": "z-Gm2ydNiXPV"
      },
      "outputs": [],
      "source": [
        "!pip install datasets\n",
        "!pip install evaluate"
      ]
    },
    {
      "cell_type": "code",
      "execution_count": null,
      "metadata": {
        "id": "le_reFOrgE-Z"
      },
      "outputs": [],
      "source": [
        "import pandas as pd\n",
        "import torch\n",
        "from transformers import RobertaTokenizer, RobertaForSequenceClassification, Trainer, TrainingArguments\n",
        "from datasets import Dataset\n",
        "import os"
      ]
    },
    {
      "cell_type": "markdown",
      "metadata": {
        "id": "6dtMq2cpji-b"
      },
      "source": [
        "Preparing data"
      ]
    },
    {
      "cell_type": "code",
      "execution_count": null,
      "metadata": {
        "id": "G0ZOYjYwirl0"
      },
      "outputs": [],
      "source": [
        "dataPath  = \"/content/drive/MyDrive/CSE_584_Dataset/CSE_584_dataset\"\n",
        "csv_files = [f for f in os.listdir(dataPath) if f.endswith('.csv')]\n",
        "\n",
        "\n",
        "df_list = []\n",
        "\n",
        "\n",
        "for file in csv_files:\n",
        "    file_path = os.path.join(dataPath, file)\n",
        "    df = pd.read_csv(file_path)\n",
        "    df_list.append(df)\n",
        "\n",
        "\n",
        "rawData = pd.concat(df_list, ignore_index=True)"
      ]
    },
    {
      "cell_type": "code",
      "execution_count": null,
      "metadata": {
        "colab": {
          "base_uri": "https://localhost:8080/"
        },
        "id": "dDICi2tDZxwY",
        "outputId": "914ed366-e40b-4e34-c9b0-9f8f342df48f"
      },
      "outputs": [
        {
          "name": "stdout",
          "output_type": "stream",
          "text": [
            "DataFrame for x = 0.2:\n",
            "                                                   Xi  \\\n",
            "0   Thequestionofhowhuman decision-makersdetermine...   \n",
            "1   informed by na turalistic p riors . The agent ...   \n",
            "2   Classification problems are central to many ap...   \n",
            "3   Lifelong learning policies aim to create a ski...   \n",
            "4         Bayesian methods are widely used in machine   \n",
            "20  Thequestionofhowhuman decision-makersdetermine...   \n",
            "21  informed by na turalistic p riors . The agent ...   \n",
            "22  Classification problems are central to many ap...   \n",
            "23  Lifelong learning policies aim to create a ski...   \n",
            "24        Bayesian methods are widely used in machine   \n",
            "40  Thequestionofhowhuman decision-makersdetermine...   \n",
            "41  informed by na turalistic p riors . The agent ...   \n",
            "42  Classification problems are central to many ap...   \n",
            "43  Lifelong learning policies aim to create a ski...   \n",
            "44        Bayesian methods are widely used in machine   \n",
            "60  Thequestionofhowhuman decision-makersdetermine...   \n",
            "61  informed by na turalistic p riors . The agent ...   \n",
            "62  Classification problems are central to many ap...   \n",
            "63  Lifelong learning policies aim to create a ski...   \n",
            "64        Bayesian methods are widely used in machine   \n",
            "\n",
            "                                                   Xj            model  \\\n",
            "0   est course of action in complex situations is ...           gemini   \n",
            "1   ht be able to generalize better to new situati...           gemini   \n",
            "2   image recognition, natural language processing...           gemini   \n",
            "3    of a rapidly changing and evolving job market.             gemini   \n",
            "4   learning for tasks like spam filtering, image ...           gemini   \n",
            "20    make decisions that impact our planet's future.  llama3.2:latest   \n",
            "21  was trained on a dataset that included example...  llama3.2:latest   \n",
            "22  ...natural language processing and computer vi...  llama3.2:latest   \n",
            "23                of an ever-changing global economy.  llama3.2:latest   \n",
            "24          learning models for predictive analytics.  llama3.2:latest   \n",
            "40   best course of action remains a subjective pr...   mistral:latest   \n",
            "41                  made decisions based on intuition   mistral:latest   \n",
            "42          predicting customer churn or credit risk.   mistral:latest   \n",
            "43                 ...of an ever-changing job market.   mistral:latest   \n",
            "44   learning applications due to their ability to...   mistral:latest   \n",
            "60  ias to be fair in complex situations remains a...   qwen2.5:latest   \n",
            "61  informed by naturalistic priors. The agent mig...   qwen2.5:latest   \n",
            "62  natural language processing tasks like sentime...   qwen2.5:latest   \n",
            "63      in a rapidly changing technological landscape   qwen2.5:latest   \n",
            "64  learning for their ability to handle uncertainty.   qwen2.5:latest   \n",
            "\n",
            "    temperature  top_p  top_k  max_output_tokens percentage_ai_count  \n",
            "0           0.2    0.2    0.0             8192.0           1-2 lines  \n",
            "1           0.2    0.2    0.0             8192.0           1-2 lines  \n",
            "2           0.2    0.2    0.0             8192.0           1-2 lines  \n",
            "3           0.2    0.2    0.0             8192.0           1-2 lines  \n",
            "4           0.2    0.2    0.0             8192.0           1-2 lines  \n",
            "20          0.2    0.2    0.0             8192.0           1-2 lines  \n",
            "21          0.2    0.2    0.0             8192.0           1-2 lines  \n",
            "22          0.2    0.2    0.0             8192.0           1-2 lines  \n",
            "23          0.2    0.2    0.0             8192.0           1-2 lines  \n",
            "24          0.2    0.2    0.0             8192.0           1-2 lines  \n",
            "40          0.2    0.2    0.0             8192.0           1-2 lines  \n",
            "41          0.2    0.2    0.0             8192.0           1-2 lines  \n",
            "42          0.2    0.2    0.0             8192.0           1-2 lines  \n",
            "43          0.2    0.2    0.0             8192.0           1-2 lines  \n",
            "44          0.2    0.2    0.0             8192.0           1-2 lines  \n",
            "60          0.2    0.2    0.0             8192.0           1-2 lines  \n",
            "61          0.2    0.2    0.0             8192.0           1-2 lines  \n",
            "62          0.2    0.2    0.0             8192.0           1-2 lines  \n",
            "63          0.2    0.2    0.0             8192.0           1-2 lines  \n",
            "64          0.2    0.2    0.0             8192.0           1-2 lines  \n",
            "\n",
            "\n",
            "DataFrame for x = 0.4:\n",
            "                                                   Xi  \\\n",
            "5   Thequestionofhowhuman decision-makersdetermine...   \n",
            "6   informed by na turalistic p riors . The agent ...   \n",
            "7   Classification problems are central to many ap...   \n",
            "8   Lifelong learning policies aim to create a ski...   \n",
            "9         Bayesian methods are widely used in machine   \n",
            "25  Thequestionofhowhuman decision-makersdetermine...   \n",
            "26  informed by na turalistic p riors . The agent ...   \n",
            "27  Classification problems are central to many ap...   \n",
            "28  Lifelong learning policies aim to create a ski...   \n",
            "29        Bayesian methods are widely used in machine   \n",
            "45  Thequestionofhowhuman decision-makersdetermine...   \n",
            "46  informed by na turalistic p riors . The agent ...   \n",
            "47  Classification problems are central to many ap...   \n",
            "48  Lifelong learning policies aim to create a ski...   \n",
            "49        Bayesian methods are widely used in machine   \n",
            "65  Thequestionofhowhuman decision-makersdetermine...   \n",
            "66  informed by na turalistic p riors . The agent ...   \n",
            "67  Classification problems are central to many ap...   \n",
            "68  Lifelong learning policies aim to create a ski...   \n",
            "69        Bayesian methods are widely used in machine   \n",
            "\n",
            "                                                   Xj            model  \\\n",
            "5   est course of action in complex situations is ...           gemini   \n",
            "6   ht be able to generalize better to new situati...           gemini   \n",
            "7   image recognition, natural language processing...           gemini   \n",
            "8   of a rapidly changing economy and technologica...           gemini   \n",
            "9   learning for tasks like spam filtering, image ...           gemini   \n",
            "25      make decisions that impact the entire planet.  llama3.2:latest   \n",
            "26  was deeply concerned about the potential conse...  llama3.2:latest   \n",
            "27  ...natural language processing and computer vi...  llama3.2:latest   \n",
            "28                     of rapid technological change.  llama3.2:latest   \n",
            "29          learning models for predictive analytics.  llama3.2:latest   \n",
            "45      best course of action remains a complex issue   mistral:latest   \n",
            "46                  made decisions based on intuition   mistral:latest   \n",
            "47   predicting customer churn or credit risk scores.   mistral:latest   \n",
            "48                 ...of an ever-changing job market.   mistral:latest   \n",
            "49   learning applications due to their ability to...   mistral:latest   \n",
            "65  ias to be fair in complex situations remains a...   qwen2.5:latest   \n",
            "66  informed by naturalistic priors. The agent mig...   qwen2.5:latest   \n",
            "67  natural language processing tasks like sentime...   qwen2.5:latest   \n",
            "68      in a rapidly changing technological landscape   qwen2.5:latest   \n",
            "69  learning for their ability to handle uncertainty.   qwen2.5:latest   \n",
            "\n",
            "    temperature  top_p  top_k  max_output_tokens percentage_ai_count  \n",
            "5           0.2    0.4    0.0             8192.0           1-2 lines  \n",
            "6           0.2    0.4    0.0             8192.0           1-2 lines  \n",
            "7           0.2    0.4    0.0             8192.0           1-2 lines  \n",
            "8           0.2    0.4    0.0             8192.0           1-2 lines  \n",
            "9           0.2    0.4    0.0             8192.0           1-2 lines  \n",
            "25          0.2    0.4    0.0             8192.0           1-2 lines  \n",
            "26          0.2    0.4    0.0             8192.0           1-2 lines  \n",
            "27          0.2    0.4    0.0             8192.0           1-2 lines  \n",
            "28          0.2    0.4    0.0             8192.0           1-2 lines  \n",
            "29          0.2    0.4    0.0             8192.0           1-2 lines  \n",
            "45          0.2    0.4    0.0             8192.0           1-2 lines  \n",
            "46          0.2    0.4    0.0             8192.0           1-2 lines  \n",
            "47          0.2    0.4    0.0             8192.0           1-2 lines  \n",
            "48          0.2    0.4    0.0             8192.0           1-2 lines  \n",
            "49          0.2    0.4    0.0             8192.0           1-2 lines  \n",
            "65          0.2    0.4    0.0             8192.0           1-2 lines  \n",
            "66          0.2    0.4    0.0             8192.0           1-2 lines  \n",
            "67          0.2    0.4    0.0             8192.0           1-2 lines  \n",
            "68          0.2    0.4    0.0             8192.0           1-2 lines  \n",
            "69          0.2    0.4    0.0             8192.0           1-2 lines  \n",
            "\n",
            "\n",
            "DataFrame for x = 0.6:\n",
            "                                                   Xi  \\\n",
            "10  Thequestionofhowhuman decision-makersdetermine...   \n",
            "11  informed by na turalistic p riors . The agent ...   \n",
            "12  Classification problems are central to many ap...   \n",
            "13  Lifelong learning policies aim to create a ski...   \n",
            "14        Bayesian methods are widely used in machine   \n",
            "30  Thequestionofhowhuman decision-makersdetermine...   \n",
            "31  informed by na turalistic p riors . The agent ...   \n",
            "32  Classification problems are central to many ap...   \n",
            "33  Lifelong learning policies aim to create a ski...   \n",
            "34        Bayesian methods are widely used in machine   \n",
            "50  Thequestionofhowhuman decision-makersdetermine...   \n",
            "51  informed by na turalistic p riors . The agent ...   \n",
            "52  Classification problems are central to many ap...   \n",
            "53  Lifelong learning policies aim to create a ski...   \n",
            "54        Bayesian methods are widely used in machine   \n",
            "70  Thequestionofhowhuman decision-makersdetermine...   \n",
            "71  informed by na turalistic p riors . The agent ...   \n",
            "72  Classification problems are central to many ap...   \n",
            "73  Lifelong learning policies aim to create a ski...   \n",
            "74        Bayesian methods are widely used in machine   \n",
            "\n",
            "                                                   Xj            model  \\\n",
            "10  est course of action in complex situations is ...           gemini   \n",
            "11  ht be able to generalize better to new situati...           gemini   \n",
            "12  image recognition, natural language processing...           gemini   \n",
            "13  of a rapidly changing economy and technologica...           gemini   \n",
            "14  learning for tasks like spam filtering, image ...           gemini   \n",
            "30         make life-or-death choices for themselves.  llama3.2:latest   \n",
            "31  was trained on a dataset that included example...  llama3.2:latest   \n",
            "32  ...natural language processing and computer vi...  llama3.2:latest   \n",
            "33                     of rapid technological change.  llama3.2:latest   \n",
            "34           learning models for predictive modeling.  llama3.2:latest   \n",
            "50   best course of action remains a subjective pr...   mistral:latest   \n",
            "51                  made decisions based on intuition   mistral:latest   \n",
            "52          predicting customer churn or credit risk.   mistral:latest   \n",
            "53                 ...of an ever-changing job market.   mistral:latest   \n",
            "54   learning applications due to their ability to...   mistral:latest   \n",
            "70  ias to be fair in complex situations remains a...   qwen2.5:latest   \n",
            "71  informed by naturalistic priors. The agent mig...   qwen2.5:latest   \n",
            "72  natural language processing tasks like sentime...   qwen2.5:latest   \n",
            "73      in a rapidly changing technological landscape   qwen2.5:latest   \n",
            "74  learning for their ability to handle uncertainty.   qwen2.5:latest   \n",
            "\n",
            "    temperature  top_p  top_k  max_output_tokens percentage_ai_count  \n",
            "10          0.2    0.6    0.0             8192.0           1-2 lines  \n",
            "11          0.2    0.6    0.0             8192.0           1-2 lines  \n",
            "12          0.2    0.6    0.0             8192.0           1-2 lines  \n",
            "13          0.2    0.6    0.0             8192.0           1-2 lines  \n",
            "14          0.2    0.6    0.0             8192.0           1-2 lines  \n",
            "30          0.2    0.6    0.0             8192.0           1-2 lines  \n",
            "31          0.2    0.6    0.0             8192.0           1-2 lines  \n",
            "32          0.2    0.6    0.0             8192.0           1-2 lines  \n",
            "33          0.2    0.6    0.0             8192.0           1-2 lines  \n",
            "34          0.2    0.6    0.0             8192.0           1-2 lines  \n",
            "50          0.2    0.6    0.0             8192.0           1-2 lines  \n",
            "51          0.2    0.6    0.0             8192.0           1-2 lines  \n",
            "52          0.2    0.6    0.0             8192.0           1-2 lines  \n",
            "53          0.2    0.6    0.0             8192.0           1-2 lines  \n",
            "54          0.2    0.6    0.0             8192.0           1-2 lines  \n",
            "70          0.2    0.6    0.0             8192.0           1-2 lines  \n",
            "71          0.2    0.6    0.0             8192.0           1-2 lines  \n",
            "72          0.2    0.6    0.0             8192.0           1-2 lines  \n",
            "73          0.2    0.6    0.0             8192.0           1-2 lines  \n",
            "74          0.2    0.6    0.0             8192.0           1-2 lines  \n",
            "\n",
            "\n",
            "DataFrame for x = 0.8:\n",
            "                                                   Xi  \\\n",
            "15  Thequestionofhowhuman decision-makersdetermine...   \n",
            "16  informed by na turalistic p riors . The agent ...   \n",
            "17  Classification problems are central to many ap...   \n",
            "18  Lifelong learning policies aim to create a ski...   \n",
            "19        Bayesian methods are widely used in machine   \n",
            "35  Thequestionofhowhuman decision-makersdetermine...   \n",
            "36  informed by na turalistic p riors . The agent ...   \n",
            "37  Classification problems are central to many ap...   \n",
            "38  Lifelong learning policies aim to create a ski...   \n",
            "39        Bayesian methods are widely used in machine   \n",
            "55  Thequestionofhowhuman decision-makersdetermine...   \n",
            "56  informed by na turalistic p riors . The agent ...   \n",
            "57  Classification problems are central to many ap...   \n",
            "58  Lifelong learning policies aim to create a ski...   \n",
            "59        Bayesian methods are widely used in machine   \n",
            "75  Thequestionofhowhuman decision-makersdetermine...   \n",
            "76  informed by na turalistic p riors . The agent ...   \n",
            "77  Classification problems are central to many ap...   \n",
            "78  Lifelong learning policies aim to create a ski...   \n",
            "79        Bayesian methods are widely used in machine   \n",
            "\n",
            "                                                   Xj            model  \\\n",
            "15  est course of action in complex situations is ...           gemini   \n",
            "16  ht be able to generalize better to new situati...           gemini   \n",
            "17  image recognition, natural language processing...           gemini   \n",
            "18   of a rapidly changing and evolving job market.             gemini   \n",
            "19  learning for tasks like classification, regres...           gemini   \n",
            "35    make decisions that impact our planet's future.  llama3.2:latest   \n",
            "36  was deeply concerned about the potential conse...  llama3.2:latest   \n",
            "37  ...natural language processing and computer vi...  llama3.2:latest   \n",
            "38                of an ever-changing global economy.  llama3.2:latest   \n",
            "39          learning models for predictive analytics.  llama3.2:latest   \n",
            "55   best course of action remains a complex issue...   mistral:latest   \n",
            "56                  made decisions based on intuition   mistral:latest   \n",
            "57   predicting customer churn or credit risk scores.   mistral:latest   \n",
            "58                 ...of an ever-changing job market.   mistral:latest   \n",
            "59   learning applications due to their ability to...   mistral:latest   \n",
            "75  ias to be fair in complex situations remains a...   qwen2.5:latest   \n",
            "76  informed by naturalistic priors. The agent mig...   qwen2.5:latest   \n",
            "77  natural language processing tasks like sentime...   qwen2.5:latest   \n",
            "78        in an ever-changing technological landscape   qwen2.5:latest   \n",
            "79  learning for their ability to handle uncertainty.   qwen2.5:latest   \n",
            "\n",
            "    temperature  top_p  top_k  max_output_tokens percentage_ai_count  \n",
            "15          0.2    0.8    0.0             8192.0           1-2 lines  \n",
            "16          0.2    0.8    0.0             8192.0           1-2 lines  \n",
            "17          0.2    0.8    0.0             8192.0           1-2 lines  \n",
            "18          0.2    0.8    0.0             8192.0           1-2 lines  \n",
            "19          0.2    0.8    0.0             8192.0           1-2 lines  \n",
            "35          0.2    0.8    0.0             8192.0           1-2 lines  \n",
            "36          0.2    0.8    0.0             8192.0           1-2 lines  \n",
            "37          0.2    0.8    0.0             8192.0           1-2 lines  \n",
            "38          0.2    0.8    0.0             8192.0           1-2 lines  \n",
            "39          0.2    0.8    0.0             8192.0           1-2 lines  \n",
            "55          0.2    0.8    0.0             8192.0           1-2 lines  \n",
            "56          0.2    0.8    0.0             8192.0           1-2 lines  \n",
            "57          0.2    0.8    0.0             8192.0           1-2 lines  \n",
            "58          0.2    0.8    0.0             8192.0           1-2 lines  \n",
            "59          0.2    0.8    0.0             8192.0           1-2 lines  \n",
            "75          0.2    0.8    0.0             8192.0           1-2 lines  \n",
            "76          0.2    0.8    0.0             8192.0           1-2 lines  \n",
            "77          0.2    0.8    0.0             8192.0           1-2 lines  \n",
            "78          0.2    0.8    0.0             8192.0           1-2 lines  \n",
            "79          0.2    0.8    0.0             8192.0           1-2 lines  \n",
            "\n",
            "\n"
          ]
        }
      ],
      "source": [
        "import pandas as pd\n",
        "\n",
        "df = pd.read_csv('/content/concatenated_top_p(1).csv')\n",
        "\n",
        "\n",
        "unique_values = df['top_p'].unique()\n",
        "\n",
        "\n",
        "dataframes = {}\n",
        "\n",
        "\n",
        "for value in unique_values:\n",
        "    dataframes[value] = df[df['top_p'] == value]\n",
        "\n",
        "# Example: Access a specific DataFrame by value\n",
        "# df_value_a = dataframes['value_a']\n",
        "\n",
        "# Print the DataFrames (optional)\n",
        "for key, dataframe in dataframes.items():\n",
        "    print(f\"DataFrame for x = {key}:\")\n",
        "    print(dataframe)\n",
        "    print(\"\\n\")  # New line for better readability\n"
      ]
    },
    {
      "cell_type": "code",
      "execution_count": null,
      "metadata": {
        "colab": {
          "base_uri": "https://localhost:8080/"
        },
        "id": "uDrc4BOHk7Ag",
        "outputId": "92f17da3-a516-4bb0-cca3-c5e837992ef7"
      },
      "outputs": [
        {
          "data": {
            "text/plain": [
              "dict_keys([0.2, 0.4, 0.6, 0.8])"
            ]
          },
          "execution_count": 142,
          "metadata": {},
          "output_type": "execute_result"
        }
      ],
      "source": [
        "dataframes.keys()"
      ]
    },
    {
      "cell_type": "code",
      "execution_count": null,
      "metadata": {
        "id": "Fnx_2kZehro7"
      },
      "outputs": [],
      "source": [
        "rawData = dataframes[0.8]"
      ]
    },
    {
      "cell_type": "code",
      "execution_count": null,
      "metadata": {
        "id": "gJj5GWtiIMOE"
      },
      "outputs": [],
      "source": [
        "data_cleaned = rawData.dropna(subset=['Xj'])\n"
      ]
    },
    {
      "cell_type": "code",
      "execution_count": null,
      "metadata": {
        "colab": {
          "base_uri": "https://localhost:8080/"
        },
        "id": "ZfdHDvq_juc8",
        "outputId": "435ac6b5-e1bf-4a2f-a758-b5ea05dc6857"
      },
      "outputs": [
        {
          "data": {
            "text/plain": [
              "dict_keys(['Xi', 'Xj', 'model', 'temperature', 'top_p', 'top_k', 'max_output_tokens', 'percentage_ai_count'])"
            ]
          },
          "execution_count": 172,
          "metadata": {},
          "output_type": "execute_result"
        }
      ],
      "source": [
        "dataDict = data_cleaned.to_dict(orient='list')\n",
        "dataDict.keys()"
      ]
    },
    {
      "cell_type": "code",
      "execution_count": null,
      "metadata": {
        "colab": {
          "base_uri": "https://localhost:8080/"
        },
        "id": "VVDp7hbNjv09",
        "outputId": "e8e58fb2-21d2-4f0b-bb63-da85d42c86cc"
      },
      "outputs": [
        {
          "name": "stdout",
          "output_type": "stream",
          "text": [
            "{'llama3.2:latest': 1, 'mistral:latest': 2, 'gemini': 3, 'qwen2.5:latest': 5}\n"
          ]
        }
      ],
      "source": [
        "data = {}\n",
        "\n",
        "data['text1'] = dataDict['Xi']\n",
        "data['text2'] = dataDict['Xj']\n",
        "\n",
        "uniqueLabels = set(dataDict['model'])\n",
        "labelMap = {}\n",
        "lbs = {'llama3.2:latest': 1, 'mistral:latest': 2, 'gemini': 3, 'llama_3.1': 4, 'qwen2.5:latest': 5}\n",
        "for lb in uniqueLabels:\n",
        "  labelMap[lb] = lbs[lb]\n",
        "  id+=1\n",
        "\n",
        "print(labelMap)\n",
        "\n",
        "data['label'] = [labelMap[i] for i in dataDict['model']]\n"
      ]
    },
    {
      "cell_type": "code",
      "execution_count": null,
      "metadata": {
        "id": "MWX7Vze1ks5t"
      },
      "outputs": [],
      "source": [
        "dataset = Dataset.from_dict(data)"
      ]
    },
    {
      "cell_type": "code",
      "execution_count": null,
      "metadata": {
        "id": "hW17Uh5NoEDX"
      },
      "outputs": [],
      "source": [
        "train_test_split_ratio = dataset.train_test_split(test_size=0.2)\n",
        "train_dataset = train_test_split_ratio['train']\n",
        "val_dataset = train_test_split_ratio['test']\n"
      ]
    },
    {
      "cell_type": "code",
      "execution_count": null,
      "metadata": {
        "colab": {
          "base_uri": "https://localhost:8080/"
        },
        "id": "sr5eowUqlzlO",
        "outputId": "99f3ea98-0ab9-4dd3-df2f-12919567c709"
      },
      "outputs": [
        {
          "name": "stderr",
          "output_type": "stream",
          "text": [
            "/usr/local/lib/python3.10/dist-packages/transformers/tokenization_utils_base.py:1601: FutureWarning: `clean_up_tokenization_spaces` was not set. It will be set to `True` by default. This behavior will be depracted in transformers v4.45, and will be then set to `False` by default. For more details check this issue: https://github.com/huggingface/transformers/issues/31884\n",
            "  warnings.warn(\n"
          ]
        }
      ],
      "source": [
        "tokenizer = RobertaTokenizer.from_pretrained('roberta-base')\n",
        "\n",
        "def tokenize_function(examples):\n",
        "    return tokenizer(examples['text1'], examples['text2'], padding='max_length', truncation=True)\n",
        "\n",
        "\n"
      ]
    },
    {
      "cell_type": "code",
      "execution_count": null,
      "metadata": {
        "colab": {
          "base_uri": "https://localhost:8080/",
          "height": 49,
          "referenced_widgets": [
            "ae0bf99c3c684e349ae489c9cdb1dceb",
            "5e49e7c47ec240f68b51cd8b8c9a0b1d",
            "30bb1293fa524b64b5db9ac9e6f2cc3e",
            "0a0a5b3e6da74d9db0134fe7d39fa9bf",
            "2b66917eb5cd47f0b1e9fb6c3d909a34",
            "8f2af9489d174584a7edb421f0db7265",
            "2a258ccde9ab4d6997600b7e154327ed",
            "a647eaa68f8e407eab097c9a807fadee",
            "08d2d4d2fa9641d18946fa2f7ae8c682",
            "7e2413da3ad94b9b8c94df7e4f65db5f",
            "378b2961a1bf40d79ae9de99f48774d1"
          ]
        },
        "id": "Z3QIQCahoROy",
        "outputId": "a2cea302-f504-48ad-948b-6d0f74d6b5cc"
      },
      "outputs": [
        {
          "data": {
            "application/vnd.jupyter.widget-view+json": {
              "model_id": "ae0bf99c3c684e349ae489c9cdb1dceb",
              "version_major": 2,
              "version_minor": 0
            },
            "text/plain": [
              "Map:   0%|          | 0/20 [00:00<?, ? examples/s]"
            ]
          },
          "metadata": {},
          "output_type": "display_data"
        }
      ],
      "source": [
        "#train_dataset = train_dataset.map(tokenize_function, batched=True)\n",
        "val_dataset = dataset.map(tokenize_function, batched=True)"
      ]
    },
    {
      "cell_type": "code",
      "execution_count": null,
      "metadata": {
        "id": "Uu0wGLMCoYgL"
      },
      "outputs": [],
      "source": [
        "#train_dataset = train_dataset.remove_columns(['text1', 'text2'])\n",
        "val_dataset = val_dataset.remove_columns(['text1', 'text2'])"
      ]
    },
    {
      "cell_type": "markdown",
      "metadata": {
        "id": "JKHawlbvmFfX"
      },
      "source": [
        "Model initialization"
      ]
    },
    {
      "cell_type": "code",
      "execution_count": null,
      "metadata": {
        "colab": {
          "base_uri": "https://localhost:8080/",
          "height": 104,
          "referenced_widgets": [
            "28f1c3faec5b44ed9eb9960a561749c8",
            "c01b4742edd441e0878ee95bbf680df0",
            "cef5761836144cf49469b249a45f5eb2",
            "15ad8943ae89472ebb4da915dfe7dcf6",
            "db325920890f48ffaa28c419cb89c6af",
            "7d16519e1b6b47a9bf0830a7d5cb6711",
            "705af01abf204f15b91eca885cbb457f",
            "b1e044c667f24ac3a78082d166101243",
            "f30dfd5c27044fdea79e654a1a7e9c09",
            "4114db71a76a430fb19319030f47b2b2",
            "a3f634bff1b24a8e994ac2e139e3179b"
          ]
        },
        "id": "hdyYNwRXl8OZ",
        "outputId": "78caf460-43b0-4d0d-8be9-22131895999e"
      },
      "outputs": [
        {
          "data": {
            "application/vnd.jupyter.widget-view+json": {
              "model_id": "28f1c3faec5b44ed9eb9960a561749c8",
              "version_major": 2,
              "version_minor": 0
            },
            "text/plain": [
              "model.safetensors:   0%|          | 0.00/499M [00:00<?, ?B/s]"
            ]
          },
          "metadata": {},
          "output_type": "display_data"
        },
        {
          "name": "stderr",
          "output_type": "stream",
          "text": [
            "Some weights of RobertaForSequenceClassification were not initialized from the model checkpoint at roberta-base and are newly initialized: ['classifier.dense.bias', 'classifier.dense.weight', 'classifier.out_proj.bias', 'classifier.out_proj.weight']\n",
            "You should probably TRAIN this model on a down-stream task to be able to use it for predictions and inference.\n"
          ]
        }
      ],
      "source": [
        "model = RobertaForSequenceClassification.from_pretrained('roberta-base', num_labels=len(uniqueLabels))\n"
      ]
    },
    {
      "cell_type": "code",
      "execution_count": null,
      "metadata": {
        "colab": {
          "base_uri": "https://localhost:8080/"
        },
        "id": "TLgsL3iLBDMu",
        "outputId": "93e307cc-a784-43ac-a71b-021856e61aa5"
      },
      "outputs": [
        {
          "name": "stderr",
          "output_type": "stream",
          "text": [
            "<ipython-input-18-2d404ea5ac60>:1: FutureWarning: You are using `torch.load` with `weights_only=False` (the current default value), which uses the default pickle module implicitly. It is possible to construct malicious pickle data which will execute arbitrary code during unpickling (See https://github.com/pytorch/pytorch/blob/main/SECURITY.md#untrusted-models for more details). In a future release, the default value for `weights_only` will be flipped to `True`. This limits the functions that could be executed during unpickling. Arbitrary objects will no longer be allowed to be loaded via this mode unless they are explicitly allowlisted by the user via `torch.serialization.add_safe_globals`. We recommend you start setting `weights_only=True` for any use case where you don't have full control of the loaded file. Please open an issue on GitHub for any issues related to this experimental feature.\n",
            "  et = torch.load('/content/drive/MyDrive/checkpoints/epoch_6.pt', map_location=torch.device('cpu'))\n"
          ]
        }
      ],
      "source": [
        "et = torch.load('/content/drive/MyDrive/checkpoints/epoch_6.pt', map_location=torch.device('cpu'))"
      ]
    },
    {
      "cell_type": "code",
      "execution_count": null,
      "metadata": {
        "colab": {
          "base_uri": "https://localhost:8080/"
        },
        "id": "efWSIdqUmHIH",
        "outputId": "7a6f6256-4cb4-4f5c-e478-bae325e2f1c0"
      },
      "outputs": [
        {
          "name": "stderr",
          "output_type": "stream",
          "text": [
            "/usr/local/lib/python3.10/dist-packages/transformers/training_args.py:1525: FutureWarning: `evaluation_strategy` is deprecated and will be removed in version 4.46 of 🤗 Transformers. Use `eval_strategy` instead\n",
            "  warnings.warn(\n"
          ]
        }
      ],
      "source": [
        "from evaluate import load as load_metric\n",
        "metric = load_metric(\"accuracy\")\n",
        "import numpy as np\n",
        "\n",
        "\n",
        "import torch\n",
        "\n",
        "def compute_metrics(eval_pred):\n",
        "    logits, labels = eval_pred\n",
        "\n",
        "    if isinstance(logits, np.ndarray):\n",
        "        logits = torch.tensor(logits)\n",
        "\n",
        "\n",
        "    predictions = torch.argmax(logits, dim=-1)\n",
        "\n",
        "\n",
        "    return metric.compute(predictions=predictions, references=labels)\n",
        "\n",
        "\n",
        "training_args = TrainingArguments(\n",
        "    output_dir='./results',\n",
        "    evaluation_strategy='epoch',\n",
        "    learning_rate=2e-5,\n",
        "    per_device_train_batch_size=16,\n",
        "    per_device_eval_batch_size=8,\n",
        "    num_train_epochs=15,\n",
        "    logging_steps = 1,\n",
        "    logging_dir = \"/content/drive/MyDrive/checkpoints\",\n",
        "    weight_decay=0.01,\n",
        ")\n",
        "\n",
        "\n",
        "trainer = Trainer(\n",
        "    model=model,\n",
        "    args=training_args,\n",
        "    train_dataset=train_dataset,\n",
        "    eval_dataset= val_dataset,\n",
        "    compute_metrics=compute_metrics\n",
        ")"
      ]
    },
    {
      "cell_type": "code",
      "execution_count": null,
      "metadata": {
        "colab": {
          "base_uri": "https://localhost:8080/",
          "height": 515
        },
        "id": "u0jGL7fymT6b",
        "outputId": "e1d04d08-6214-42b6-f181-8aff28793d10"
      },
      "outputs": [
        {
          "data": {
            "text/html": [
              "\n",
              "    <div>\n",
              "      \n",
              "      <progress value='1153' max='10500' style='width:300px; height:20px; vertical-align: middle;'></progress>\n",
              "      [ 1153/10500 28:23 < 3:50:37, 0.68 it/s, Epoch 1.65/15]\n",
              "    </div>\n",
              "    <table border=\"1\" class=\"dataframe\">\n",
              "  <thead>\n",
              " <tr style=\"text-align: left;\">\n",
              "      <th>Epoch</th>\n",
              "      <th>Training Loss</th>\n",
              "      <th>Validation Loss</th>\n",
              "      <th>Accuracy</th>\n",
              "    </tr>\n",
              "  </thead>\n",
              "  <tbody>\n",
              "    <tr>\n",
              "      <td>1</td>\n",
              "      <td>0.519100</td>\n",
              "      <td>0.637067</td>\n",
              "      <td>0.730618</td>\n",
              "    </tr>\n",
              "  </tbody>\n",
              "</table><p>"
            ],
            "text/plain": [
              "<IPython.core.display.HTML object>"
            ]
          },
          "metadata": {},
          "output_type": "display_data"
        },
        {
          "data": {
            "text/html": [
              "\n",
              "    <div>\n",
              "      \n",
              "      <progress value='1406' max='10500' style='width:300px; height:20px; vertical-align: middle;'></progress>\n",
              "      [ 1406/10500 35:38 < 3:50:52, 0.66 it/s, Epoch 2.01/15]\n",
              "    </div>\n",
              "    <table border=\"1\" class=\"dataframe\">\n",
              "  <thead>\n",
              " <tr style=\"text-align: left;\">\n",
              "      <th>Epoch</th>\n",
              "      <th>Training Loss</th>\n",
              "      <th>Validation Loss</th>\n",
              "      <th>Accuracy</th>\n",
              "    </tr>\n",
              "  </thead>\n",
              "  <tbody>\n",
              "    <tr>\n",
              "      <td>1</td>\n",
              "      <td>0.519100</td>\n",
              "      <td>0.637067</td>\n",
              "      <td>0.730618</td>\n",
              "    </tr>\n",
              "    <tr>\n",
              "      <td>2</td>\n",
              "      <td>0.824000</td>\n",
              "      <td>0.562900</td>\n",
              "      <td>0.785995</td>\n",
              "    </tr>\n",
              "  </tbody>\n",
              "</table><p>"
            ],
            "text/plain": [
              "<IPython.core.display.HTML object>"
            ]
          },
          "metadata": {},
          "output_type": "display_data"
        },
        {
          "ename": "KeyboardInterrupt",
          "evalue": "",
          "output_type": "error",
          "traceback": [
            "\u001b[0;31m---------------------------------------------------------------------------\u001b[0m",
            "\u001b[0;31mKeyboardInterrupt\u001b[0m                         Traceback (most recent call last)",
            "\u001b[0;32m<ipython-input-16-3435b262f1ae>\u001b[0m in \u001b[0;36m<cell line: 1>\u001b[0;34m()\u001b[0m\n\u001b[0;32m----> 1\u001b[0;31m \u001b[0mtrainer\u001b[0m\u001b[0;34m.\u001b[0m\u001b[0mtrain\u001b[0m\u001b[0;34m(\u001b[0m\u001b[0;34m)\u001b[0m\u001b[0;34m\u001b[0m\u001b[0;34m\u001b[0m\u001b[0m\n\u001b[0m",
            "\u001b[0;32m/usr/local/lib/python3.10/dist-packages/transformers/trainer.py\u001b[0m in \u001b[0;36mtrain\u001b[0;34m(self, resume_from_checkpoint, trial, ignore_keys_for_eval, **kwargs)\u001b[0m\n\u001b[1;32m   1936\u001b[0m                 \u001b[0mhf_hub_utils\u001b[0m\u001b[0;34m.\u001b[0m\u001b[0menable_progress_bars\u001b[0m\u001b[0;34m(\u001b[0m\u001b[0;34m)\u001b[0m\u001b[0;34m\u001b[0m\u001b[0;34m\u001b[0m\u001b[0m\n\u001b[1;32m   1937\u001b[0m         \u001b[0;32melse\u001b[0m\u001b[0;34m:\u001b[0m\u001b[0;34m\u001b[0m\u001b[0;34m\u001b[0m\u001b[0m\n\u001b[0;32m-> 1938\u001b[0;31m             return inner_training_loop(\n\u001b[0m\u001b[1;32m   1939\u001b[0m                 \u001b[0margs\u001b[0m\u001b[0;34m=\u001b[0m\u001b[0margs\u001b[0m\u001b[0;34m,\u001b[0m\u001b[0;34m\u001b[0m\u001b[0;34m\u001b[0m\u001b[0m\n\u001b[1;32m   1940\u001b[0m                 \u001b[0mresume_from_checkpoint\u001b[0m\u001b[0;34m=\u001b[0m\u001b[0mresume_from_checkpoint\u001b[0m\u001b[0;34m,\u001b[0m\u001b[0;34m\u001b[0m\u001b[0;34m\u001b[0m\u001b[0m\n",
            "\u001b[0;32m/usr/local/lib/python3.10/dist-packages/transformers/trainer.py\u001b[0m in \u001b[0;36m_inner_training_loop\u001b[0;34m(self, batch_size, args, resume_from_checkpoint, trial, ignore_keys_for_eval)\u001b[0m\n\u001b[1;32m   2282\u001b[0m                     \u001b[0margs\u001b[0m\u001b[0;34m.\u001b[0m\u001b[0mlogging_nan_inf_filter\u001b[0m\u001b[0;34m\u001b[0m\u001b[0;34m\u001b[0m\u001b[0m\n\u001b[1;32m   2283\u001b[0m                     \u001b[0;32mand\u001b[0m \u001b[0;32mnot\u001b[0m \u001b[0mis_torch_xla_available\u001b[0m\u001b[0;34m(\u001b[0m\u001b[0;34m)\u001b[0m\u001b[0;34m\u001b[0m\u001b[0;34m\u001b[0m\u001b[0m\n\u001b[0;32m-> 2284\u001b[0;31m                     \u001b[0;32mand\u001b[0m \u001b[0;34m(\u001b[0m\u001b[0mtorch\u001b[0m\u001b[0;34m.\u001b[0m\u001b[0misnan\u001b[0m\u001b[0;34m(\u001b[0m\u001b[0mtr_loss_step\u001b[0m\u001b[0;34m)\u001b[0m \u001b[0;32mor\u001b[0m \u001b[0mtorch\u001b[0m\u001b[0;34m.\u001b[0m\u001b[0misinf\u001b[0m\u001b[0;34m(\u001b[0m\u001b[0mtr_loss_step\u001b[0m\u001b[0;34m)\u001b[0m\u001b[0;34m)\u001b[0m\u001b[0;34m\u001b[0m\u001b[0;34m\u001b[0m\u001b[0m\n\u001b[0m\u001b[1;32m   2285\u001b[0m                 ):\n\u001b[1;32m   2286\u001b[0m                     \u001b[0;31m# if loss is nan or inf simply add the average of previous logged losses\u001b[0m\u001b[0;34m\u001b[0m\u001b[0;34m\u001b[0m\u001b[0m\n",
            "\u001b[0;31mKeyboardInterrupt\u001b[0m: "
          ]
        }
      ],
      "source": [
        "trainer.train()"
      ]
    },
    {
      "cell_type": "code",
      "execution_count": null,
      "metadata": {
        "id": "kaVrW4E7Nwy6"
      },
      "outputs": [],
      "source": [
        "model = RobertaForSequenceClassification.from_pretrained(\"/content/content/drive/MyDrive/checkpoints/roberta-text-classification\")"
      ]
    },
    {
      "cell_type": "code",
      "execution_count": null,
      "metadata": {
        "colab": {
          "base_uri": "https://localhost:8080/",
          "height": 356
        },
        "id": "gOBD1FBd1-sG",
        "outputId": "9e2a165d-c40a-4394-d486-0355694ec264"
      },
      "outputs": [
        {
          "ename": "KeyError",
          "evalue": "\"Column text not in the dataset. Current columns in the dataset: ['label', 'input_ids', 'attention_mask']\"",
          "output_type": "error",
          "traceback": [
            "\u001b[0;31m---------------------------------------------------------------------------\u001b[0m",
            "\u001b[0;31mKeyError\u001b[0m                                  Traceback (most recent call last)",
            "\u001b[0;32m<ipython-input-19-3f016e284ee4>\u001b[0m in \u001b[0;36m<cell line: 12>\u001b[0;34m()\u001b[0m\n\u001b[1;32m     10\u001b[0m \u001b[0;34m\u001b[0m\u001b[0m\n\u001b[1;32m     11\u001b[0m \u001b[0;34m\u001b[0m\u001b[0m\n\u001b[0;32m---> 12\u001b[0;31m \u001b[0mval_texts\u001b[0m \u001b[0;34m=\u001b[0m \u001b[0mval_dataset\u001b[0m\u001b[0;34m[\u001b[0m\u001b[0;34m'text'\u001b[0m\u001b[0;34m]\u001b[0m  \u001b[0;31m# Adjust this according to your dataset structure\u001b[0m\u001b[0;34m\u001b[0m\u001b[0;34m\u001b[0m\u001b[0m\n\u001b[0m\u001b[1;32m     13\u001b[0m \u001b[0mtrue_labels\u001b[0m \u001b[0;34m=\u001b[0m \u001b[0mval_dataset\u001b[0m\u001b[0;34m[\u001b[0m\u001b[0;34m'label'\u001b[0m\u001b[0;34m]\u001b[0m  \u001b[0;31m# Adjust this according to your dataset structure\u001b[0m\u001b[0;34m\u001b[0m\u001b[0;34m\u001b[0m\u001b[0m\n\u001b[1;32m     14\u001b[0m \u001b[0;34m\u001b[0m\u001b[0m\n",
            "\u001b[0;32m/usr/local/lib/python3.10/dist-packages/datasets/arrow_dataset.py\u001b[0m in \u001b[0;36m__getitem__\u001b[0;34m(self, key)\u001b[0m\n\u001b[1;32m   2740\u001b[0m     \u001b[0;32mdef\u001b[0m \u001b[0m__getitem__\u001b[0m\u001b[0;34m(\u001b[0m\u001b[0mself\u001b[0m\u001b[0;34m,\u001b[0m \u001b[0mkey\u001b[0m\u001b[0;34m)\u001b[0m\u001b[0;34m:\u001b[0m  \u001b[0;31m# noqa: F811\u001b[0m\u001b[0;34m\u001b[0m\u001b[0;34m\u001b[0m\u001b[0m\n\u001b[1;32m   2741\u001b[0m         \u001b[0;34m\"\"\"Can be used to index columns (by string names) or rows (by integer index or iterable of indices or bools).\"\"\"\u001b[0m\u001b[0;34m\u001b[0m\u001b[0;34m\u001b[0m\u001b[0m\n\u001b[0;32m-> 2742\u001b[0;31m         \u001b[0;32mreturn\u001b[0m \u001b[0mself\u001b[0m\u001b[0;34m.\u001b[0m\u001b[0m_getitem\u001b[0m\u001b[0;34m(\u001b[0m\u001b[0mkey\u001b[0m\u001b[0;34m)\u001b[0m\u001b[0;34m\u001b[0m\u001b[0;34m\u001b[0m\u001b[0m\n\u001b[0m\u001b[1;32m   2743\u001b[0m \u001b[0;34m\u001b[0m\u001b[0m\n\u001b[1;32m   2744\u001b[0m     \u001b[0;32mdef\u001b[0m \u001b[0m__getitems__\u001b[0m\u001b[0;34m(\u001b[0m\u001b[0mself\u001b[0m\u001b[0;34m,\u001b[0m \u001b[0mkeys\u001b[0m\u001b[0;34m:\u001b[0m \u001b[0mList\u001b[0m\u001b[0;34m)\u001b[0m \u001b[0;34m->\u001b[0m \u001b[0mList\u001b[0m\u001b[0;34m:\u001b[0m\u001b[0;34m\u001b[0m\u001b[0;34m\u001b[0m\u001b[0m\n",
            "\u001b[0;32m/usr/local/lib/python3.10/dist-packages/datasets/arrow_dataset.py\u001b[0m in \u001b[0;36m_getitem\u001b[0;34m(self, key, **kwargs)\u001b[0m\n\u001b[1;32m   2724\u001b[0m         \u001b[0mformat_kwargs\u001b[0m \u001b[0;34m=\u001b[0m \u001b[0mformat_kwargs\u001b[0m \u001b[0;32mif\u001b[0m \u001b[0mformat_kwargs\u001b[0m \u001b[0;32mis\u001b[0m \u001b[0;32mnot\u001b[0m \u001b[0;32mNone\u001b[0m \u001b[0;32melse\u001b[0m \u001b[0;34m{\u001b[0m\u001b[0;34m}\u001b[0m\u001b[0;34m\u001b[0m\u001b[0;34m\u001b[0m\u001b[0m\n\u001b[1;32m   2725\u001b[0m         \u001b[0mformatter\u001b[0m \u001b[0;34m=\u001b[0m \u001b[0mget_formatter\u001b[0m\u001b[0;34m(\u001b[0m\u001b[0mformat_type\u001b[0m\u001b[0;34m,\u001b[0m \u001b[0mfeatures\u001b[0m\u001b[0;34m=\u001b[0m\u001b[0mself\u001b[0m\u001b[0;34m.\u001b[0m\u001b[0m_info\u001b[0m\u001b[0;34m.\u001b[0m\u001b[0mfeatures\u001b[0m\u001b[0;34m,\u001b[0m \u001b[0;34m**\u001b[0m\u001b[0mformat_kwargs\u001b[0m\u001b[0;34m)\u001b[0m\u001b[0;34m\u001b[0m\u001b[0;34m\u001b[0m\u001b[0m\n\u001b[0;32m-> 2726\u001b[0;31m         \u001b[0mpa_subtable\u001b[0m \u001b[0;34m=\u001b[0m \u001b[0mquery_table\u001b[0m\u001b[0;34m(\u001b[0m\u001b[0mself\u001b[0m\u001b[0;34m.\u001b[0m\u001b[0m_data\u001b[0m\u001b[0;34m,\u001b[0m \u001b[0mkey\u001b[0m\u001b[0;34m,\u001b[0m \u001b[0mindices\u001b[0m\u001b[0;34m=\u001b[0m\u001b[0mself\u001b[0m\u001b[0;34m.\u001b[0m\u001b[0m_indices\u001b[0m\u001b[0;34m)\u001b[0m\u001b[0;34m\u001b[0m\u001b[0;34m\u001b[0m\u001b[0m\n\u001b[0m\u001b[1;32m   2727\u001b[0m         formatted_output = format_table(\n\u001b[1;32m   2728\u001b[0m             \u001b[0mpa_subtable\u001b[0m\u001b[0;34m,\u001b[0m \u001b[0mkey\u001b[0m\u001b[0;34m,\u001b[0m \u001b[0mformatter\u001b[0m\u001b[0;34m=\u001b[0m\u001b[0mformatter\u001b[0m\u001b[0;34m,\u001b[0m \u001b[0mformat_columns\u001b[0m\u001b[0;34m=\u001b[0m\u001b[0mformat_columns\u001b[0m\u001b[0;34m,\u001b[0m \u001b[0moutput_all_columns\u001b[0m\u001b[0;34m=\u001b[0m\u001b[0moutput_all_columns\u001b[0m\u001b[0;34m\u001b[0m\u001b[0;34m\u001b[0m\u001b[0m\n",
            "\u001b[0;32m/usr/local/lib/python3.10/dist-packages/datasets/formatting/formatting.py\u001b[0m in \u001b[0;36mquery_table\u001b[0;34m(table, key, indices)\u001b[0m\n\u001b[1;32m    588\u001b[0m             \u001b[0m_raise_bad_key_type\u001b[0m\u001b[0;34m(\u001b[0m\u001b[0mkey\u001b[0m\u001b[0;34m)\u001b[0m\u001b[0;34m\u001b[0m\u001b[0;34m\u001b[0m\u001b[0m\n\u001b[1;32m    589\u001b[0m     \u001b[0;32mif\u001b[0m \u001b[0misinstance\u001b[0m\u001b[0;34m(\u001b[0m\u001b[0mkey\u001b[0m\u001b[0;34m,\u001b[0m \u001b[0mstr\u001b[0m\u001b[0;34m)\u001b[0m\u001b[0;34m:\u001b[0m\u001b[0;34m\u001b[0m\u001b[0;34m\u001b[0m\u001b[0m\n\u001b[0;32m--> 590\u001b[0;31m         \u001b[0m_check_valid_column_key\u001b[0m\u001b[0;34m(\u001b[0m\u001b[0mkey\u001b[0m\u001b[0;34m,\u001b[0m \u001b[0mtable\u001b[0m\u001b[0;34m.\u001b[0m\u001b[0mcolumn_names\u001b[0m\u001b[0;34m)\u001b[0m\u001b[0;34m\u001b[0m\u001b[0;34m\u001b[0m\u001b[0m\n\u001b[0m\u001b[1;32m    591\u001b[0m     \u001b[0;32melse\u001b[0m\u001b[0;34m:\u001b[0m\u001b[0;34m\u001b[0m\u001b[0;34m\u001b[0m\u001b[0m\n\u001b[1;32m    592\u001b[0m         \u001b[0msize\u001b[0m \u001b[0;34m=\u001b[0m \u001b[0mindices\u001b[0m\u001b[0;34m.\u001b[0m\u001b[0mnum_rows\u001b[0m \u001b[0;32mif\u001b[0m \u001b[0mindices\u001b[0m \u001b[0;32mis\u001b[0m \u001b[0;32mnot\u001b[0m \u001b[0;32mNone\u001b[0m \u001b[0;32melse\u001b[0m \u001b[0mtable\u001b[0m\u001b[0;34m.\u001b[0m\u001b[0mnum_rows\u001b[0m\u001b[0;34m\u001b[0m\u001b[0;34m\u001b[0m\u001b[0m\n",
            "\u001b[0;32m/usr/local/lib/python3.10/dist-packages/datasets/formatting/formatting.py\u001b[0m in \u001b[0;36m_check_valid_column_key\u001b[0;34m(key, columns)\u001b[0m\n\u001b[1;32m    525\u001b[0m \u001b[0;32mdef\u001b[0m \u001b[0m_check_valid_column_key\u001b[0m\u001b[0;34m(\u001b[0m\u001b[0mkey\u001b[0m\u001b[0;34m:\u001b[0m \u001b[0mstr\u001b[0m\u001b[0;34m,\u001b[0m \u001b[0mcolumns\u001b[0m\u001b[0;34m:\u001b[0m \u001b[0mList\u001b[0m\u001b[0;34m[\u001b[0m\u001b[0mstr\u001b[0m\u001b[0;34m]\u001b[0m\u001b[0;34m)\u001b[0m \u001b[0;34m->\u001b[0m \u001b[0;32mNone\u001b[0m\u001b[0;34m:\u001b[0m\u001b[0;34m\u001b[0m\u001b[0;34m\u001b[0m\u001b[0m\n\u001b[1;32m    526\u001b[0m     \u001b[0;32mif\u001b[0m \u001b[0mkey\u001b[0m \u001b[0;32mnot\u001b[0m \u001b[0;32min\u001b[0m \u001b[0mcolumns\u001b[0m\u001b[0;34m:\u001b[0m\u001b[0;34m\u001b[0m\u001b[0;34m\u001b[0m\u001b[0m\n\u001b[0;32m--> 527\u001b[0;31m         \u001b[0;32mraise\u001b[0m \u001b[0mKeyError\u001b[0m\u001b[0;34m(\u001b[0m\u001b[0;34mf\"Column {key} not in the dataset. Current columns in the dataset: {columns}\"\u001b[0m\u001b[0;34m)\u001b[0m\u001b[0;34m\u001b[0m\u001b[0;34m\u001b[0m\u001b[0m\n\u001b[0m\u001b[1;32m    528\u001b[0m \u001b[0;34m\u001b[0m\u001b[0m\n\u001b[1;32m    529\u001b[0m \u001b[0;34m\u001b[0m\u001b[0m\n",
            "\u001b[0;31mKeyError\u001b[0m: \"Column text not in the dataset. Current columns in the dataset: ['label', 'input_ids', 'attention_mask']\""
          ]
        }
      ],
      "source": [
        "import torch\n",
        "from transformers import RobertaTokenizer, RobertaForSequenceClassification\n",
        "from sklearn.metrics import confusion_matrix, ConfusionMatrixDisplay\n",
        "import seaborn as sns\n",
        "import matplotlib.pyplot as plt\n",
        "import numpy as np\n",
        "\n",
        "\n",
        "model.eval()\n",
        "\n",
        "\n",
        "val_texts = val_dataset['text']\n",
        "true_labels = val_dataset['label']\n",
        "\n",
        "# Tokenize the validation texts\n",
        "inputs = tokenizer(val_texts, padding=True, truncation=True, return_tensors=\"pt\", max_length=512)\n",
        "\n",
        "\n",
        "with torch.no_grad():\n",
        "    outputs = model(**inputs)\n",
        "    logits = outputs.logits\n",
        "    predictions = torch.argmax(logits, dim=1).numpy()\n",
        "\n",
        "# Compute the confusion matrix\n",
        "cm = confusion_matrix(true_labels, predictions)\n",
        "\n",
        "\n",
        "plt.figure(figsize=(10, 7))\n",
        "disp = ConfusionMatrixDisplay(confusion_matrix=cm)\n",
        "disp.plot(cmap=plt.cm.Blues)\n",
        "plt.title('Confusion Matrix for RoBERTa Model')\n",
        "plt.xlabel('Predicted Label')\n",
        "plt.ylabel('True Label')\n",
        "plt.show()\n"
      ]
    },
    {
      "cell_type": "markdown",
      "metadata": {
        "id": "hT6dVpXpmcy9"
      },
      "source": [
        "Evaluation"
      ]
    },
    {
      "cell_type": "code",
      "execution_count": null,
      "metadata": {
        "colab": {
          "base_uri": "https://localhost:8080/",
          "height": 141
        },
        "id": "C_EFX7aVlCKm",
        "outputId": "caf1f146-344e-458e-a05a-630e37190d9f"
      },
      "outputs": [
        {
          "data": {
            "text/html": [
              "\n",
              "    <div>\n",
              "      \n",
              "      <progress value='3' max='3' style='width:300px; height:20px; vertical-align: middle;'></progress>\n",
              "      [3/3 00:00]\n",
              "    </div>\n",
              "    "
            ],
            "text/plain": [
              "<IPython.core.display.HTML object>"
            ]
          },
          "metadata": {},
          "output_type": "display_data"
        },
        {
          "data": {
            "text/plain": [
              "{'eval_loss': 0.7510122656822205,\n",
              " 'eval_model_preparation_time': 0.0096,\n",
              " 'eval_accuracy': 0.7,\n",
              " 'eval_runtime': 0.6723,\n",
              " 'eval_samples_per_second': 29.748,\n",
              " 'eval_steps_per_second': 4.462}"
            ]
          },
          "execution_count": 160,
          "metadata": {},
          "output_type": "execute_result"
        }
      ],
      "source": [
        "trainer.evaluate() #0.2, 0.4 => 0.6,0.7"
      ]
    },
    {
      "cell_type": "code",
      "execution_count": null,
      "metadata": {
        "colab": {
          "base_uri": "https://localhost:8080/",
          "height": 141
        },
        "id": "Lyt4ryiSlN-1",
        "outputId": "0525e480-5065-4c04-ab1c-370dfdcf19a5"
      },
      "outputs": [
        {
          "data": {
            "text/html": [
              "\n",
              "    <div>\n",
              "      \n",
              "      <progress value='3' max='3' style='width:300px; height:20px; vertical-align: middle;'></progress>\n",
              "      [3/3 00:00]\n",
              "    </div>\n",
              "    "
            ],
            "text/plain": [
              "<IPython.core.display.HTML object>"
            ]
          },
          "metadata": {},
          "output_type": "display_data"
        },
        {
          "data": {
            "text/plain": [
              "{'eval_loss': 0.8575853109359741,\n",
              " 'eval_model_preparation_time': 0.0062,\n",
              " 'eval_accuracy': 0.6,\n",
              " 'eval_runtime': 0.6642,\n",
              " 'eval_samples_per_second': 30.111,\n",
              " 'eval_steps_per_second': 4.517}"
            ]
          },
          "execution_count": 169,
          "metadata": {},
          "output_type": "execute_result"
        }
      ],
      "source": [
        "trainer.evaluate() #0.6"
      ]
    },
    {
      "cell_type": "code",
      "execution_count": null,
      "metadata": {
        "colab": {
          "base_uri": "https://localhost:8080/",
          "height": 564
        },
        "id": "01Keqq3qmeVV",
        "outputId": "e4d40b93-d51b-4cd5-c877-6facc2657f2d"
      },
      "outputs": [
        {
          "data": {
            "image/png": "[encoded data removed]",
            "text/plain": [
              "<Figure size 1000x600 with 1 Axes>"
            ]
          },
          "metadata": {},
          "output_type": "display_data"
        }
      ],
      "source": [
        "import matplotlib.pyplot as plt\n",
        "\n",
        "\n",
        "temperatures = [0.2, 0.4, 0.6, 0.8, 1.0]\n",
        "accuracies = [0.6, 0.6, 0.72, 0.68, 0.64]\n",
        "\n",
        "\n",
        "plt.figure(figsize=(10, 6))\n",
        "plt.plot(temperatures, accuracies, marker='o', linestyle='-', color='blue')\n",
        "plt.title('Evaluation Accuracy vs Temperature (for Text Generation)')\n",
        "plt.xlabel('Temperature')\n",
        "plt.ylabel('Evaluation Accuracy')\n",
        "plt.xticks(temperatures)\n",
        "plt.ylim(0.5, 0.75)\n",
        "plt.grid()\n",
        "plt.axhline(y=max(accuracies), color='r', linestyle='--', label='Max Accuracy')\n",
        "plt.legend()\n",
        "plt.show()\n"
      ]
    },
    {
      "cell_type": "code",
      "execution_count": null,
      "metadata": {
        "colab": {
          "base_uri": "https://localhost:8080/",
          "height": 141
        },
        "id": "BXMlZBUqla0A",
        "outputId": "87894c63-e46e-40a4-e858-346e76f5bf0e"
      },
      "outputs": [
        {
          "data": {
            "text/html": [
              "\n",
              "    <div>\n",
              "      \n",
              "      <progress value='3' max='3' style='width:300px; height:20px; vertical-align: middle;'></progress>\n",
              "      [3/3 00:00]\n",
              "    </div>\n",
              "    "
            ],
            "text/plain": [
              "<IPython.core.display.HTML object>"
            ]
          },
          "metadata": {},
          "output_type": "display_data"
        },
        {
          "data": {
            "text/plain": [
              "{'eval_loss': 0.8186162710189819,\n",
              " 'eval_model_preparation_time': 0.0059,\n",
              " 'eval_accuracy': 0.65,\n",
              " 'eval_runtime': 0.6716,\n",
              " 'eval_samples_per_second': 29.778,\n",
              " 'eval_steps_per_second': 4.467}"
            ]
          },
          "execution_count": 178,
          "metadata": {},
          "output_type": "execute_result"
        }
      ],
      "source": [
        "trainer.evaluate() #0.8"
      ]
    },
    {
      "cell_type": "code",
      "execution_count": null,
      "metadata": {
        "colab": {
          "base_uri": "https://localhost:8080/",
          "height": 564
        },
        "id": "j-4ZQaEmpA_v",
        "outputId": "9f7c7daa-f1ae-4618-e75e-05e22d04443c"
      },
      "outputs": [
        {
          "data": {
            "image/png": "[encoded data removed]",
            "text/plain": [
              "<Figure size 1000x600 with 1 Axes>"
            ]
          },
          "metadata": {},
          "output_type": "display_data"
        }
      ],
      "source": [
        "import matplotlib.pyplot as plt\n",
        "\n",
        "# Define the top-p values and corresponding accuracies\n",
        "top_p_values = [0.8, 0.6, 0.4, 0.2]\n",
        "accuracies = [0.6, 0.7, 0.6, 0.65]\n",
        "\n",
        "\n",
        "plt.figure(figsize=(10, 6))\n",
        "plt.plot(top_p_values, accuracies, marker='o', linestyle='-', color='blue')\n",
        "plt.title('Validation Accuracy vs Top-p Values')\n",
        "plt.xlabel('Top-p Value')\n",
        "plt.ylabel('Validation Accuracy')\n",
        "plt.xticks(top_p_values)\n",
        "plt.ylim(0.5, 0.75)\n",
        "plt.grid()\n",
        "plt.axhline(y=max(accuracies), color='r', linestyle='--', label='Max Accuracy')\n",
        "plt.legend()\n",
        "plt.savefig('top_p_accuracy.png')\n",
        "plt.show()\n"
      ]
    },
    {
      "cell_type": "code",
      "execution_count": null,
      "metadata": {
        "colab": {
          "base_uri": "https://localhost:8080/",
          "height": 141
        },
        "id": "KN4p2mUZlmKh",
        "outputId": "45661ce3-41ad-4769-f786-d529825d4b72"
      },
      "outputs": [
        {
          "data": {
            "text/html": [
              "\n",
              "    <div>\n",
              "      \n",
              "      <progress value='4' max='4' style='width:300px; height:20px; vertical-align: middle;'></progress>\n",
              "      [4/4 00:00]\n",
              "    </div>\n",
              "    "
            ],
            "text/plain": [
              "<IPython.core.display.HTML object>"
            ]
          },
          "metadata": {},
          "output_type": "display_data"
        },
        {
          "data": {
            "text/plain": [
              "{'eval_loss': 0.999595046043396,\n",
              " 'eval_model_preparation_time': 0.0054,\n",
              " 'eval_accuracy': 0.64,\n",
              " 'eval_runtime': 0.8316,\n",
              " 'eval_samples_per_second': 30.063,\n",
              " 'eval_steps_per_second': 4.81}"
            ]
          },
          "execution_count": 138,
          "metadata": {},
          "output_type": "execute_result"
        }
      ],
      "source": [
        "trainer.evaluate() #1.0"
      ]
    },
    {
      "cell_type": "code",
      "execution_count": null,
      "metadata": {
        "colab": {
          "base_uri": "https://localhost:8080/",
          "height": 141
        },
        "id": "WjmVamsgkal3",
        "outputId": "8d6878c1-68fa-47e3-ff71-00fd337ea516"
      },
      "outputs": [
        {
          "data": {
            "text/html": [
              "\n",
              "    <div>\n",
              "      \n",
              "      <progress value='4' max='4' style='width:300px; height:20px; vertical-align: middle;'></progress>\n",
              "      [4/4 00:00]\n",
              "    </div>\n",
              "    "
            ],
            "text/plain": [
              "<IPython.core.display.HTML object>"
            ]
          },
          "metadata": {},
          "output_type": "display_data"
        },
        {
          "data": {
            "text/plain": [
              "{'eval_loss': 1.408810019493103,\n",
              " 'eval_model_preparation_time': 0.0061,\n",
              " 'eval_accuracy': 0.48,\n",
              " 'eval_runtime': 0.8553,\n",
              " 'eval_samples_per_second': 29.23,\n",
              " 'eval_steps_per_second': 4.677}"
            ]
          },
          "execution_count": 90,
          "metadata": {},
          "output_type": "execute_result"
        }
      ],
      "source": [
        "trainer.evaluate() #20"
      ]
    },
    {
      "cell_type": "code",
      "execution_count": null,
      "metadata": {
        "colab": {
          "base_uri": "https://localhost:8080/",
          "height": 141
        },
        "id": "Mj06syCOkP9V",
        "outputId": "a8d804b7-9334-4579-c576-31e69d5a2ab9"
      },
      "outputs": [
        {
          "data": {
            "text/html": [
              "\n",
              "    <div>\n",
              "      \n",
              "      <progress value='4' max='4' style='width:300px; height:20px; vertical-align: middle;'></progress>\n",
              "      [4/4 00:00]\n",
              "    </div>\n",
              "    "
            ],
            "text/plain": [
              "<IPython.core.display.HTML object>"
            ]
          },
          "metadata": {},
          "output_type": "display_data"
        },
        {
          "data": {
            "text/plain": [
              "{'eval_loss': 1.5492613315582275,\n",
              " 'eval_model_preparation_time': 0.0093,\n",
              " 'eval_accuracy': 0.56,\n",
              " 'eval_runtime': 0.8417,\n",
              " 'eval_samples_per_second': 29.701,\n",
              " 'eval_steps_per_second': 4.752}"
            ]
          },
          "execution_count": 79,
          "metadata": {},
          "output_type": "execute_result"
        }
      ],
      "source": [
        "trainer.evaluate() #15"
      ]
    },
    {
      "cell_type": "code",
      "execution_count": null,
      "metadata": {
        "colab": {
          "base_uri": "https://localhost:8080/",
          "height": 141
        },
        "id": "UDmih65vkLNI",
        "outputId": "1519c075-2354-417d-f572-41d14a587856"
      },
      "outputs": [
        {
          "data": {
            "text/html": [
              "\n",
              "    <div>\n",
              "      \n",
              "      <progress value='4' max='4' style='width:300px; height:20px; vertical-align: middle;'></progress>\n",
              "      [4/4 00:00]\n",
              "    </div>\n",
              "    "
            ],
            "text/plain": [
              "<IPython.core.display.HTML object>"
            ]
          },
          "metadata": {},
          "output_type": "display_data"
        },
        {
          "data": {
            "text/plain": [
              "{'eval_loss': 1.4352928400039673,\n",
              " 'eval_model_preparation_time': 0.0138,\n",
              " 'eval_accuracy': 0.56,\n",
              " 'eval_runtime': 0.8396,\n",
              " 'eval_samples_per_second': 29.774,\n",
              " 'eval_steps_per_second': 4.764}"
            ]
          },
          "execution_count": 70,
          "metadata": {},
          "output_type": "execute_result"
        }
      ],
      "source": [
        "trainer.evaluate() #10"
      ]
    },
    {
      "cell_type": "code",
      "execution_count": null,
      "metadata": {
        "colab": {
          "base_uri": "https://localhost:8080/",
          "height": 141
        },
        "id": "-XnD7BsymXj_",
        "outputId": "181f022e-a672-41ad-ad69-ffd10af3a0f6"
      },
      "outputs": [
        {
          "data": {
            "text/html": [
              "\n",
              "    <div>\n",
              "      \n",
              "      <progress value='4' max='4' style='width:300px; height:20px; vertical-align: middle;'></progress>\n",
              "      [4/4 00:00]\n",
              "    </div>\n",
              "    "
            ],
            "text/plain": [
              "<IPython.core.display.HTML object>"
            ]
          },
          "metadata": {},
          "output_type": "display_data"
        },
        {
          "data": {
            "text/plain": [
              "{'eval_loss': 1.6626362800598145,\n",
              " 'eval_model_preparation_time': 0.0077,\n",
              " 'eval_accuracy': 0.6,\n",
              " 'eval_runtime': 0.8927,\n",
              " 'eval_samples_per_second': 28.006,\n",
              " 'eval_steps_per_second': 4.481}"
            ]
          },
          "execution_count": 60,
          "metadata": {},
          "output_type": "execute_result"
        }
      ],
      "source": [
        "trainer.evaluate() #5"
      ]
    },
    {
      "cell_type": "code",
      "execution_count": null,
      "metadata": {
        "colab": {
          "base_uri": "https://localhost:8080/",
          "height": 564
        },
        "id": "GRUqjHMonwNa",
        "outputId": "bd990af5-96cf-4c73-f023-bc4dbd2cf94b"
      },
      "outputs": [
        {
          "data": {
            "image/png": "[encoded data removed]",
            "text/plain": [
              "<Figure size 1000x600 with 1 Axes>"
            ]
          },
          "metadata": {},
          "output_type": "display_data"
        }
      ],
      "source": [
        "import matplotlib.pyplot as plt\n",
        "\n",
        "# Define the percentages of AI-generated content and corresponding accuracies\n",
        "ai_generated_percentages = [5, 10, 15, 20]\n",
        "accuracies = [0.6, 0.56, 0.56, 0.48]\n",
        "\n",
        "\n",
        "plt.figure(figsize=(10, 6))\n",
        "plt.plot(ai_generated_percentages, accuracies, marker='o', linestyle='-', color='blue')\n",
        "plt.title('Validation Accuracy vs Percentage of AI-generated Content')\n",
        "plt.xlabel('Percentage of AI-generated Content (%)')\n",
        "plt.ylabel('Validation Accuracy')\n",
        "plt.xticks(ai_generated_percentages)\n",
        "plt.ylim(0.45, 0.65)\n",
        "plt.grid()\n",
        "plt.axhline(y=max(accuracies), color='r', linestyle='--', label='Max Accuracy')\n",
        "plt.legend()\n",
        "plt.savefig('ai_generated_accuracy.png')\n",
        "plt.show()\n"
      ]
    },
    {
      "cell_type": "code",
      "execution_count": null,
      "metadata": {
        "id": "JZqVJsjUOd5w"
      },
      "outputs": [],
      "source": [
        "import numpy as np\n",
        "import matplotlib.pyplot as plt\n",
        "from sklearn.metrics import confusion_matrix, ConfusionMatrixDisplay\n",
        "from transformers import RobertaForSequenceClassification, RobertaTokenizer, Trainer, TrainingArguments\n",
        "\n",
        "# Define the compute_metrics function\n",
        "def compute_metrics(pred):\n",
        "    labels = pred.label_ids\n",
        "    preds = np.argmax(pred.predictions, axis=1)\n",
        "    accuracy = np.sum(preds == labels) / len(labels)\n",
        "    return {\n",
        "        'accuracy': accuracy,\n",
        "        'loss': pred.loss,\n",
        "    }\n",
        "\n",
        "# training arguments (for evaluation)\n",
        "training_args = TrainingArguments(\n",
        "    output_dir='./results',\n",
        "    per_device_eval_batch_size=16,\n",
        "    logging_dir='./logs',\n",
        ")\n",
        "\n",
        "\n",
        "\n",
        "Trainer\n",
        "trainer = Trainer(\n",
        "    model=model,\n",
        "    args=training_args,\n",
        "    eval_dataset=val_dataset,\n",
        "    tokenizer=tokenizer,\n",
        "    compute_metrics=compute_metrics,  # Include the compute_metrics function\n",
        ")\n",
        "\n",
        "# Evaluation\n",
        "evaluation_results = trainer.evaluate()\n",
        "\n",
        "# Print accuracy and loss\n",
        "accuracy = evaluation_results.get('eval_accuracy', None)\n",
        "loss = evaluation_results.get('eval_loss', None)\n",
        "\n",
        "print(f\"Evaluation Loss: {loss:.4f}\")\n",
        "print(f\"Evaluation Accuracy: {accuracy:.4f}\")\n",
        "\n",
        "\n",
        "\n"
      ]
    },
    {
      "cell_type": "code",
      "execution_count": null,
      "metadata": {
        "colab": {
          "base_uri": "https://localhost:8080/"
        },
        "id": "HMN89tJ9sXmP",
        "outputId": "12bd83bc-514f-4d4b-ce6e-601497b74273"
      },
      "outputs": [
        {
          "name": "stdout",
          "output_type": "stream",
          "text": [
            "Predicted class: 0\n"
          ]
        },
        {
          "name": "stderr",
          "output_type": "stream",
          "text": [
            "/usr/local/lib/python3.10/dist-packages/transformers/tokenization_utils_base.py:1601: FutureWarning: `clean_up_tokenization_spaces` was not set. It will be set to `True` by default. This behavior will be depracted in transformers v4.45, and will be then set to `False` by default. For more details check this issue: https://github.com/huggingface/transformers/issues/31884\n",
            "  warnings.warn(\n"
          ]
        }
      ],
      "source": [
        "import numpy as np\n",
        "import torch\n",
        "from transformers import RobertaTokenizer, RobertaForSequenceClassification\n",
        "\n",
        "# Using GPU\n",
        "device = torch.device(\"cuda\" if torch.cuda.is_available() else \"cpu\")\n",
        "\n",
        "# tokenizer\n",
        "#model = RobertaForSequenceClassification.from_pretrained('path_to_your_model').to(device)\n",
        "tokenizer = RobertaTokenizer.from_pretrained('roberta-base')  # or your specific model\n",
        "\n",
        "model.eval()\n",
        "\n",
        "\n",
        "#single_sample_text = \"People moving by a\tbusy street often seem like blurs. \"\n",
        "#single_sample_text = \"a man is carrying a load\ton his back, struggling to maintain his balance.\"\n",
        "single_sample_text = \"Two people ride their yellow bikes on water\"\n",
        "\n",
        "\n",
        "inputs = tokenizer(single_sample_text, return_tensors=\"pt\").to(device)\n",
        "\n",
        "\n",
        "with torch.no_grad():\n",
        "    outputs = model(**inputs)\n",
        "    logits = outputs.logits\n",
        "\n",
        "\n",
        "predicted_class = np.argmax(logits.cpu().numpy(), axis=1)\n",
        "\n",
        "print(f\"Predicted class: {predicted_class[0]}\")\n"
      ]
    },
    {
      "cell_type": "code",
      "execution_count": null,
      "metadata": {
        "colab": {
          "base_uri": "https://localhost:8080/"
        },
        "id": "3WabiT6tjlRQ",
        "outputId": "0f63f398-3c13-4a00-c1e5-b55bb905a9db"
      },
      "outputs": [
        {
          "name": "stdout",
          "output_type": "stream",
          "text": [
            "None\n"
          ]
        }
      ],
      "source": [
        "print(accuracy)"
      ]
    },
    {
      "cell_type": "code",
      "execution_count": null,
      "metadata": {
        "colab": {
          "base_uri": "https://localhost:8080/",
          "height": 669
        },
        "id": "FQBnpnItP7II",
        "outputId": "72f3ebab-3549-41b6-958d-96377ee0382c"
      },
      "outputs": [
        {
          "data": {
            "image/png": "[encoded data removed]",
            "text/plain": [
              "<Figure size 1000x600 with 1 Axes>"
            ]
          },
          "metadata": {},
          "output_type": "display_data"
        }
      ],
      "source": [
        "import numpy as np\n",
        "import matplotlib.pyplot as plt\n",
        "from sklearn.metrics import confusion_matrix, ConfusionMatrixDisplay, accuracy_score\n",
        "\n",
        "# true_labels = predictions.label_ids\n",
        "# predicted_labels = np.argmax(predictions.predictions, axis=1)\n",
        "\n",
        "# confusion matrix\n",
        "cm = confusion_matrix(true_labels, predicted_labels)\n",
        "\n",
        "# class-wise accuracies\n",
        "class_accuracies = cm.diagonal() / cm.sum(axis=1)\n",
        "\n",
        "\n",
        "class_names = ['llama3:latest', 'llama3.2:latest', 'mistral:latest',\n",
        "               'gemini-1.5-flash', 'llama-3.1-70b-instruct', 'qwen2.5:latest',\n",
        "               'gpt-4-32k']\n",
        "\n",
        "\n",
        "plt.figure(figsize=(10, 6))\n",
        "plt.bar(class_names, class_accuracies, color='skyblue')\n",
        "plt.ylim(0, 1)\n",
        "plt.title('Class-wise Accuracies')\n",
        "plt.xlabel('Classes')\n",
        "plt.ylabel('Accuracy')\n",
        "plt.xticks(rotation=45, ha='right')\n",
        "plt.grid(axis='y')\n",
        "plt.show()\n"
      ]
    },
    {
      "cell_type": "code",
      "execution_count": null,
      "metadata": {
        "id": "-A6m_MBAmgFG"
      },
      "outputs": [],
      "source": [
        "model.save_pretrained(\"./content/drive/MyDrive/checkpoints/roberta-text-classification\")"
      ]
    },
    {
      "cell_type": "code",
      "execution_count": null,
      "metadata": {
        "id": "ORNxVgRXNYK4"
      },
      "outputs": [],
      "source": []
    },
    {
      "cell_type": "code",
      "execution_count": null,
      "metadata": {
        "colab": {
          "base_uri": "https://localhost:8080/",
          "height": 664
        },
        "id": "rulmC3eWtwyC",
        "outputId": "c3451aad-5b6b-4397-b9dd-fb9ab34dbc39"
      },
      "outputs": [
        {
          "name": "stderr",
          "output_type": "stream",
          "text": [
            "/usr/local/lib/python3.10/dist-packages/seaborn/_base.py:949: FutureWarning: When grouping with a length-1 list-like, you will need to pass a length-1 tuple to get_group in a future version of pandas. Pass `(name,)` instead of `name` to silence this warning.\n",
            "  data_subset = grouped_data.get_group(pd_key)\n",
            "/usr/local/lib/python3.10/dist-packages/seaborn/_base.py:949: FutureWarning: When grouping with a length-1 list-like, you will need to pass a length-1 tuple to get_group in a future version of pandas. Pass `(name,)` instead of `name` to silence this warning.\n",
            "  data_subset = grouped_data.get_group(pd_key)\n"
          ]
        },
        {
          "data": {
            "image/png": "[encoded data removed]",
            "text/plain": [
              "<Figure size 1000x600 with 1 Axes>"
            ]
          },
          "metadata": {},
          "output_type": "display_data"
        }
      ],
      "source": [
        "import seaborn as sns\n",
        "import matplotlib.pyplot as plt\n",
        "import pandas as pd\n",
        "\n",
        "\n",
        "bert_accuracies = [0.554126, 0.585209, 0.600929, 0.604859, 0.599143,\n",
        "                   0.605573, 0.606645, 0.615577, 0.602715, 0.605931, 0.607360]\n",
        "\n",
        "roberta_accuracies = [0.733476, 0.768846, 0.778850, 0.797428, 0.782422,\n",
        "                      0.790997, 0.793498, 0.785280, 0.788139, 0.791711, 0.781350]\n",
        "\n",
        "\n",
        "epochs_bert = list(range(1, len(bert_accuracies) + 1))\n",
        "epochs_roberta = list(range(1, len(roberta_accuracies) + 1))\n",
        "\n",
        "\n",
        "data = pd.DataFrame({\n",
        "    'Epoch': epochs_bert + epochs_roberta,\n",
        "    'Accuracy': bert_accuracies + roberta_accuracies,\n",
        "    'Model': ['BERT'] * len(bert_accuracies) + ['RoBERTa'] * len(roberta_accuracies)\n",
        "})\n",
        "\n",
        "\n",
        "sns.set(style=\"whitegrid\")\n",
        "\n",
        "\n",
        "plt.figure(figsize=(10, 6))\n",
        "sns.lineplot(x='Epoch', y='Accuracy', hue='Model', data=data, marker='o')\n",
        "\n",
        "\n",
        "plt.title('Accuracy vs Epochs for BERT and RoBERTa')\n",
        "plt.xlabel('Epoch')\n",
        "plt.ylabel('Accuracy')\n",
        "\n",
        "\n",
        "plt.show()\n"
      ]
    },
    {
      "cell_type": "code",
      "execution_count": null,
      "metadata": {
        "colab": {
          "base_uri": "https://localhost:8080/",
          "height": 564
        },
        "id": "bVXlhOxm0xfo",
        "outputId": "8367ffce-af8d-4b6a-e0ae-a7a3947cadcd"
      },
      "outputs": [
        {
          "data": {
            "image/png": "[encoded data removed]",
            "text/plain": [
              "<Figure size 1000x600 with 1 Axes>"
            ]
          },
          "metadata": {},
          "output_type": "display_data"
        }
      ],
      "source": [
        "import matplotlib.pyplot as plt\n",
        "import seaborn as sns\n",
        "import pandas as pd\n",
        "\n",
        "# Data for BERT\n",
        "bert_data = {\n",
        "    'Epoch': [1, 2, 3, 4, 5, 6, 7, 8, 9, 10],\n",
        "    'Training Loss': [1.778400, 1.132800, 0.169300, 1.877600, 0.059600, 0.664700, 0.033300, 0.000500, 0.027600, 0.000700],\n",
        "    'Validation Loss': [1.180204, 1.089391, 1.203426, 1.426889, 1.963232, 2.154499, 2.518505, 2.706300, 2.945846, 2.976062]\n",
        "}\n",
        "\n",
        "# Data for RoBERTa\n",
        "roberta_data = {\n",
        "    'Epoch': [1, 2, 3, 4, 5, 6, 7, 8, 9, 10, 11],\n",
        "    'Training Loss': [0.909300, 1.150200, 0.040400, 1.136300, 0.002600, 0.006400, 0.511800, 0.000600, 0.921000, 0.001800, 0.000200],\n",
        "    'Validation Loss': [0.669506, 0.651383, 0.690859, 0.791005, 1.063000, 1.266176, 1.312213, 1.506748, 1.656405, 1.721825, 1.890004]\n",
        "}\n",
        "\n",
        "\n",
        "bert_df = pd.DataFrame(bert_data)\n",
        "roberta_df = pd.DataFrame(roberta_data)\n",
        "\n",
        "\n",
        "plt.figure(figsize=(10, 6))\n",
        "\n",
        "# BERT Training and Validation Loss\n",
        "sns.lineplot(x='Epoch', y='Training Loss', data=bert_df, marker='o', label='BERT Training Loss')\n",
        "sns.lineplot(x='Epoch', y='Validation Loss', data=bert_df, marker='o', label='BERT Validation Loss')\n",
        "\n",
        "# RoBERTa Training and Validation Loss\n",
        "sns.lineplot(x='Epoch', y='Training Loss', data=roberta_df, marker='o', label='RoBERTa Training Loss')\n",
        "sns.lineplot(x='Epoch', y='Validation Loss', data=roberta_df, marker='o', label='RoBERTa Validation Loss')\n",
        "\n",
        "\n",
        "plt.title('Training and Validation Loss per Epoch for BERT and RoBERTa')\n",
        "plt.xlabel('Epoch')\n",
        "plt.ylabel('Loss')\n",
        "plt.legend()\n",
        "plt.grid(True)\n",
        "plt.show()\n"
      ]
    },
    {
      "cell_type": "code",
      "execution_count": null,
      "metadata": {
        "id": "mxbokn_pYLpN"
      },
      "outputs": [],
      "source": []
    }
  ],
  "metadata": {
    "accelerator": "GPU",
    "colab": {
      "gpuType": "T4",
      "provenance": []
    },
    "kernelspec": {
      "display_name": "Python 3",
      "name": "python3"
    },
    "language_info": {
      "name": "python"
    },
    "widgets": {
      "application/vnd.jupyter.widget-state+json": {
        "08d2d4d2fa9641d18946fa2f7ae8c682": {
          "model_module": "@jupyter-widgets/controls",
          "model_module_version": "1.5.0",
          "model_name": "ProgressStyleModel",
          "state": {
            "_model_module": "@jupyter-widgets/controls",
            "_model_module_version": "1.5.0",
            "_model_name": "ProgressStyleModel",
            "_view_count": null,
            "_view_module": "@jupyter-widgets/base",
            "_view_module_version": "1.2.0",
            "_view_name": "StyleView",
            "bar_color": null,
            "description_width": ""
          }
        },
        "0a0a5b3e6da74d9db0134fe7d39fa9bf": {
          "model_module": "@jupyter-widgets/controls",
          "model_module_version": "1.5.0",
          "model_name": "HTMLModel",
          "state": {
            "_dom_classes": [],
            "_model_module": "@jupyter-widgets/controls",
            "_model_module_version": "1.5.0",
            "_model_name": "HTMLModel",
            "_view_count": null,
            "_view_module": "@jupyter-widgets/controls",
            "_view_module_version": "1.5.0",
            "_view_name": "HTMLView",
            "description": "",
            "description_tooltip": null,
            "layout": "IPY_MODEL_7e2413da3ad94b9b8c94df7e4f65db5f",
            "placeholder": "​",
            "style": "IPY_MODEL_378b2961a1bf40d79ae9de99f48774d1",
            "value": " 20/20 [00:00&lt;00:00, 346.12 examples/s]"
          }
        },
        "15ad8943ae89472ebb4da915dfe7dcf6": {
          "model_module": "@jupyter-widgets/controls",
          "model_module_version": "1.5.0",
          "model_name": "HTMLModel",
          "state": {
            "_dom_classes": [],
            "_model_module": "@jupyter-widgets/controls",
            "_model_module_version": "1.5.0",
            "_model_name": "HTMLModel",
            "_view_count": null,
            "_view_module": "@jupyter-widgets/controls",
            "_view_module_version": "1.5.0",
            "_view_name": "HTMLView",
            "description": "",
            "description_tooltip": null,
            "layout": "IPY_MODEL_4114db71a76a430fb19319030f47b2b2",
            "placeholder": "​",
            "style": "IPY_MODEL_a3f634bff1b24a8e994ac2e139e3179b",
            "value": " 499M/499M [00:01&lt;00:00, 350MB/s]"
          }
        },
        "28f1c3faec5b44ed9eb9960a561749c8": {
          "model_module": "@jupyter-widgets/controls",
          "model_module_version": "1.5.0",
          "model_name": "HBoxModel",
          "state": {
            "_dom_classes": [],
            "_model_module": "@jupyter-widgets/controls",
            "_model_module_version": "1.5.0",
            "_model_name": "HBoxModel",
            "_view_count": null,
            "_view_module": "@jupyter-widgets/controls",
            "_view_module_version": "1.5.0",
            "_view_name": "HBoxView",
            "box_style": "",
            "children": [
              "IPY_MODEL_c01b4742edd441e0878ee95bbf680df0",
              "IPY_MODEL_cef5761836144cf49469b249a45f5eb2",
              "IPY_MODEL_15ad8943ae89472ebb4da915dfe7dcf6"
            ],
            "layout": "IPY_MODEL_db325920890f48ffaa28c419cb89c6af"
          }
        },
        "2a258ccde9ab4d6997600b7e154327ed": {
          "model_module": "@jupyter-widgets/controls",
          "model_module_version": "1.5.0",
          "model_name": "DescriptionStyleModel",
          "state": {
            "_model_module": "@jupyter-widgets/controls",
            "_model_module_version": "1.5.0",
            "_model_name": "DescriptionStyleModel",
            "_view_count": null,
            "_view_module": "@jupyter-widgets/base",
            "_view_module_version": "1.2.0",
            "_view_name": "StyleView",
            "description_width": ""
          }
        },
        "2b66917eb5cd47f0b1e9fb6c3d909a34": {
          "model_module": "@jupyter-widgets/base",
          "model_module_version": "1.2.0",
          "model_name": "LayoutModel",
          "state": {
            "_model_module": "@jupyter-widgets/base",
            "_model_module_version": "1.2.0",
            "_model_name": "LayoutModel",
            "_view_count": null,
            "_view_module": "@jupyter-widgets/base",
            "_view_module_version": "1.2.0",
            "_view_name": "LayoutView",
            "align_content": null,
            "align_items": null,
            "align_self": null,
            "border": null,
            "bottom": null,
            "display": null,
            "flex": null,
            "flex_flow": null,
            "grid_area": null,
            "grid_auto_columns": null,
            "grid_auto_flow": null,
            "grid_auto_rows": null,
            "grid_column": null,
            "grid_gap": null,
            "grid_row": null,
            "grid_template_areas": null,
            "grid_template_columns": null,
            "grid_template_rows": null,
            "height": null,
            "justify_content": null,
            "justify_items": null,
            "left": null,
            "margin": null,
            "max_height": null,
            "max_width": null,
            "min_height": null,
            "min_width": null,
            "object_fit": null,
            "object_position": null,
            "order": null,
            "overflow": null,
            "overflow_x": null,
            "overflow_y": null,
            "padding": null,
            "right": null,
            "top": null,
            "visibility": null,
            "width": null
          }
        },
        "30bb1293fa524b64b5db9ac9e6f2cc3e": {
          "model_module": "@jupyter-widgets/controls",
          "model_module_version": "1.5.0",
          "model_name": "FloatProgressModel",
          "state": {
            "_dom_classes": [],
            "_model_module": "@jupyter-widgets/controls",
            "_model_module_version": "1.5.0",
            "_model_name": "FloatProgressModel",
            "_view_count": null,
            "_view_module": "@jupyter-widgets/controls",
            "_view_module_version": "1.5.0",
            "_view_name": "ProgressView",
            "bar_style": "success",
            "description": "",
            "description_tooltip": null,
            "layout": "IPY_MODEL_a647eaa68f8e407eab097c9a807fadee",
            "max": 20,
            "min": 0,
            "orientation": "horizontal",
            "style": "IPY_MODEL_08d2d4d2fa9641d18946fa2f7ae8c682",
            "value": 20
          }
        },
        "378b2961a1bf40d79ae9de99f48774d1": {
          "model_module": "@jupyter-widgets/controls",
          "model_module_version": "1.5.0",
          "model_name": "DescriptionStyleModel",
          "state": {
            "_model_module": "@jupyter-widgets/controls",
            "_model_module_version": "1.5.0",
            "_model_name": "DescriptionStyleModel",
            "_view_count": null,
            "_view_module": "@jupyter-widgets/base",
            "_view_module_version": "1.2.0",
            "_view_name": "StyleView",
            "description_width": ""
          }
        },
        "4114db71a76a430fb19319030f47b2b2": {
          "model_module": "@jupyter-widgets/base",
          "model_module_version": "1.2.0",
          "model_name": "LayoutModel",
          "state": {
            "_model_module": "@jupyter-widgets/base",
            "_model_module_version": "1.2.0",
            "_model_name": "LayoutModel",
            "_view_count": null,
            "_view_module": "@jupyter-widgets/base",
            "_view_module_version": "1.2.0",
            "_view_name": "LayoutView",
            "align_content": null,
            "align_items": null,
            "align_self": null,
            "border": null,
            "bottom": null,
            "display": null,
            "flex": null,
            "flex_flow": null,
            "grid_area": null,
            "grid_auto_columns": null,
            "grid_auto_flow": null,
            "grid_auto_rows": null,
            "grid_column": null,
            "grid_gap": null,
            "grid_row": null,
            "grid_template_areas": null,
            "grid_template_columns": null,
            "grid_template_rows": null,
            "height": null,
            "justify_content": null,
            "justify_items": null,
            "left": null,
            "margin": null,
            "max_height": null,
            "max_width": null,
            "min_height": null,
            "min_width": null,
            "object_fit": null,
            "object_position": null,
            "order": null,
            "overflow": null,
            "overflow_x": null,
            "overflow_y": null,
            "padding": null,
            "right": null,
            "top": null,
            "visibility": null,
            "width": null
          }
        },
        "5e49e7c47ec240f68b51cd8b8c9a0b1d": {
          "model_module": "@jupyter-widgets/controls",
          "model_module_version": "1.5.0",
          "model_name": "HTMLModel",
          "state": {
            "_dom_classes": [],
            "_model_module": "@jupyter-widgets/controls",
            "_model_module_version": "1.5.0",
            "_model_name": "HTMLModel",
            "_view_count": null,
            "_view_module": "@jupyter-widgets/controls",
            "_view_module_version": "1.5.0",
            "_view_name": "HTMLView",
            "description": "",
            "description_tooltip": null,
            "layout": "IPY_MODEL_8f2af9489d174584a7edb421f0db7265",
            "placeholder": "​",
            "style": "IPY_MODEL_2a258ccde9ab4d6997600b7e154327ed",
            "value": "Map: 100%"
          }
        },
        "705af01abf204f15b91eca885cbb457f": {
          "model_module": "@jupyter-widgets/controls",
          "model_module_version": "1.5.0",
          "model_name": "DescriptionStyleModel",
          "state": {
            "_model_module": "@jupyter-widgets/controls",
            "_model_module_version": "1.5.0",
            "_model_name": "DescriptionStyleModel",
            "_view_count": null,
            "_view_module": "@jupyter-widgets/base",
            "_view_module_version": "1.2.0",
            "_view_name": "StyleView",
            "description_width": ""
          }
        },
        "7d16519e1b6b47a9bf0830a7d5cb6711": {
          "model_module": "@jupyter-widgets/base",
          "model_module_version": "1.2.0",
          "model_name": "LayoutModel",
          "state": {
            "_model_module": "@jupyter-widgets/base",
            "_model_module_version": "1.2.0",
            "_model_name": "LayoutModel",
            "_view_count": null,
            "_view_module": "@jupyter-widgets/base",
            "_view_module_version": "1.2.0",
            "_view_name": "LayoutView",
            "align_content": null,
            "align_items": null,
            "align_self": null,
            "border": null,
            "bottom": null,
            "display": null,
            "flex": null,
            "flex_flow": null,
            "grid_area": null,
            "grid_auto_columns": null,
            "grid_auto_flow": null,
            "grid_auto_rows": null,
            "grid_column": null,
            "grid_gap": null,
            "grid_row": null,
            "grid_template_areas": null,
            "grid_template_columns": null,
            "grid_template_rows": null,
            "height": null,
            "justify_content": null,
            "justify_items": null,
            "left": null,
            "margin": null,
            "max_height": null,
            "max_width": null,
            "min_height": null,
            "min_width": null,
            "object_fit": null,
            "object_position": null,
            "order": null,
            "overflow": null,
            "overflow_x": null,
            "overflow_y": null,
            "padding": null,
            "right": null,
            "top": null,
            "visibility": null,
            "width": null
          }
        },
        "7e2413da3ad94b9b8c94df7e4f65db5f": {
          "model_module": "@jupyter-widgets/base",
          "model_module_version": "1.2.0",
          "model_name": "LayoutModel",
          "state": {
            "_model_module": "@jupyter-widgets/base",
            "_model_module_version": "1.2.0",
            "_model_name": "LayoutModel",
            "_view_count": null,
            "_view_module": "@jupyter-widgets/base",
            "_view_module_version": "1.2.0",
            "_view_name": "LayoutView",
            "align_content": null,
            "align_items": null,
            "align_self": null,
            "border": null,
            "bottom": null,
            "display": null,
            "flex": null,
            "flex_flow": null,
            "grid_area": null,
            "grid_auto_columns": null,
            "grid_auto_flow": null,
            "grid_auto_rows": null,
            "grid_column": null,
            "grid_gap": null,
            "grid_row": null,
            "grid_template_areas": null,
            "grid_template_columns": null,
            "grid_template_rows": null,
            "height": null,
            "justify_content": null,
            "justify_items": null,
            "left": null,
            "margin": null,
            "max_height": null,
            "max_width": null,
            "min_height": null,
            "min_width": null,
            "object_fit": null,
            "object_position": null,
            "order": null,
            "overflow": null,
            "overflow_x": null,
            "overflow_y": null,
            "padding": null,
            "right": null,
            "top": null,
            "visibility": null,
            "width": null
          }
        },
        "8f2af9489d174584a7edb421f0db7265": {
          "model_module": "@jupyter-widgets/base",
          "model_module_version": "1.2.0",
          "model_name": "LayoutModel",
          "state": {
            "_model_module": "@jupyter-widgets/base",
            "_model_module_version": "1.2.0",
            "_model_name": "LayoutModel",
            "_view_count": null,
            "_view_module": "@jupyter-widgets/base",
            "_view_module_version": "1.2.0",
            "_view_name": "LayoutView",
            "align_content": null,
            "align_items": null,
            "align_self": null,
            "border": null,
            "bottom": null,
            "display": null,
            "flex": null,
            "flex_flow": null,
            "grid_area": null,
            "grid_auto_columns": null,
            "grid_auto_flow": null,
            "grid_auto_rows": null,
            "grid_column": null,
            "grid_gap": null,
            "grid_row": null,
            "grid_template_areas": null,
            "grid_template_columns": null,
            "grid_template_rows": null,
            "height": null,
            "justify_content": null,
            "justify_items": null,
            "left": null,
            "margin": null,
            "max_height": null,
            "max_width": null,
            "min_height": null,
            "min_width": null,
            "object_fit": null,
            "object_position": null,
            "order": null,
            "overflow": null,
            "overflow_x": null,
            "overflow_y": null,
            "padding": null,
            "right": null,
            "top": null,
            "visibility": null,
            "width": null
          }
        },
        "a3f634bff1b24a8e994ac2e139e3179b": {
          "model_module": "@jupyter-widgets/controls",
          "model_module_version": "1.5.0",
          "model_name": "DescriptionStyleModel",
          "state": {
            "_model_module": "@jupyter-widgets/controls",
            "_model_module_version": "1.5.0",
            "_model_name": "DescriptionStyleModel",
            "_view_count": null,
            "_view_module": "@jupyter-widgets/base",
            "_view_module_version": "1.2.0",
            "_view_name": "StyleView",
            "description_width": ""
          }
        },
        "a647eaa68f8e407eab097c9a807fadee": {
          "model_module": "@jupyter-widgets/base",
          "model_module_version": "1.2.0",
          "model_name": "LayoutModel",
          "state": {
            "_model_module": "@jupyter-widgets/base",
            "_model_module_version": "1.2.0",
            "_model_name": "LayoutModel",
            "_view_count": null,
            "_view_module": "@jupyter-widgets/base",
            "_view_module_version": "1.2.0",
            "_view_name": "LayoutView",
            "align_content": null,
            "align_items": null,
            "align_self": null,
            "border": null,
            "bottom": null,
            "display": null,
            "flex": null,
            "flex_flow": null,
            "grid_area": null,
            "grid_auto_columns": null,
            "grid_auto_flow": null,
            "grid_auto_rows": null,
            "grid_column": null,
            "grid_gap": null,
            "grid_row": null,
            "grid_template_areas": null,
            "grid_template_columns": null,
            "grid_template_rows": null,
            "height": null,
            "justify_content": null,
            "justify_items": null,
            "left": null,
            "margin": null,
            "max_height": null,
            "max_width": null,
            "min_height": null,
            "min_width": null,
            "object_fit": null,
            "object_position": null,
            "order": null,
            "overflow": null,
            "overflow_x": null,
            "overflow_y": null,
            "padding": null,
            "right": null,
            "top": null,
            "visibility": null,
            "width": null
          }
        },
        "ae0bf99c3c684e349ae489c9cdb1dceb": {
          "model_module": "@jupyter-widgets/controls",
          "model_module_version": "1.5.0",
          "model_name": "HBoxModel",
          "state": {
            "_dom_classes": [],
            "_model_module": "@jupyter-widgets/controls",
            "_model_module_version": "1.5.0",
            "_model_name": "HBoxModel",
            "_view_count": null,
            "_view_module": "@jupyter-widgets/controls",
            "_view_module_version": "1.5.0",
            "_view_name": "HBoxView",
            "box_style": "",
            "children": [
              "IPY_MODEL_5e49e7c47ec240f68b51cd8b8c9a0b1d",
              "IPY_MODEL_30bb1293fa524b64b5db9ac9e6f2cc3e",
              "IPY_MODEL_0a0a5b3e6da74d9db0134fe7d39fa9bf"
            ],
            "layout": "IPY_MODEL_2b66917eb5cd47f0b1e9fb6c3d909a34"
          }
        },
        "b1e044c667f24ac3a78082d166101243": {
          "model_module": "@jupyter-widgets/base",
          "model_module_version": "1.2.0",
          "model_name": "LayoutModel",
          "state": {
            "_model_module": "@jupyter-widgets/base",
            "_model_module_version": "1.2.0",
            "_model_name": "LayoutModel",
            "_view_count": null,
            "_view_module": "@jupyter-widgets/base",
            "_view_module_version": "1.2.0",
            "_view_name": "LayoutView",
            "align_content": null,
            "align_items": null,
            "align_self": null,
            "border": null,
            "bottom": null,
            "display": null,
            "flex": null,
            "flex_flow": null,
            "grid_area": null,
            "grid_auto_columns": null,
            "grid_auto_flow": null,
            "grid_auto_rows": null,
            "grid_column": null,
            "grid_gap": null,
            "grid_row": null,
            "grid_template_areas": null,
            "grid_template_columns": null,
            "grid_template_rows": null,
            "height": null,
            "justify_content": null,
            "justify_items": null,
            "left": null,
            "margin": null,
            "max_height": null,
            "max_width": null,
            "min_height": null,
            "min_width": null,
            "object_fit": null,
            "object_position": null,
            "order": null,
            "overflow": null,
            "overflow_x": null,
            "overflow_y": null,
            "padding": null,
            "right": null,
            "top": null,
            "visibility": null,
            "width": null
          }
        },
        "c01b4742edd441e0878ee95bbf680df0": {
          "model_module": "@jupyter-widgets/controls",
          "model_module_version": "1.5.0",
          "model_name": "HTMLModel",
          "state": {
            "_dom_classes": [],
            "_model_module": "@jupyter-widgets/controls",
            "_model_module_version": "1.5.0",
            "_model_name": "HTMLModel",
            "_view_count": null,
            "_view_module": "@jupyter-widgets/controls",
            "_view_module_version": "1.5.0",
            "_view_name": "HTMLView",
            "description": "",
            "description_tooltip": null,
            "layout": "IPY_MODEL_7d16519e1b6b47a9bf0830a7d5cb6711",
            "placeholder": "​",
            "style": "IPY_MODEL_705af01abf204f15b91eca885cbb457f",
            "value": "model.safetensors: 100%"
          }
        },
        "cef5761836144cf49469b249a45f5eb2": {
          "model_module": "@jupyter-widgets/controls",
          "model_module_version": "1.5.0",
          "model_name": "FloatProgressModel",
          "state": {
            "_dom_classes": [],
            "_model_module": "@jupyter-widgets/controls",
            "_model_module_version": "1.5.0",
            "_model_name": "FloatProgressModel",
            "_view_count": null,
            "_view_module": "@jupyter-widgets/controls",
            "_view_module_version": "1.5.0",
            "_view_name": "ProgressView",
            "bar_style": "success",
            "description": "",
            "description_tooltip": null,
            "layout": "IPY_MODEL_b1e044c667f24ac3a78082d166101243",
            "max": 498818054,
            "min": 0,
            "orientation": "horizontal",
            "style": "IPY_MODEL_f30dfd5c27044fdea79e654a1a7e9c09",
            "value": 498818054
          }
        },
        "db325920890f48ffaa28c419cb89c6af": {
          "model_module": "@jupyter-widgets/base",
          "model_module_version": "1.2.0",
          "model_name": "LayoutModel",
          "state": {
            "_model_module": "@jupyter-widgets/base",
            "_model_module_version": "1.2.0",
            "_model_name": "LayoutModel",
            "_view_count": null,
            "_view_module": "@jupyter-widgets/base",
            "_view_module_version": "1.2.0",
            "_view_name": "LayoutView",
            "align_content": null,
            "align_items": null,
            "align_self": null,
            "border": null,
            "bottom": null,
            "display": null,
            "flex": null,
            "flex_flow": null,
            "grid_area": null,
            "grid_auto_columns": null,
            "grid_auto_flow": null,
            "grid_auto_rows": null,
            "grid_column": null,
            "grid_gap": null,
            "grid_row": null,
            "grid_template_areas": null,
            "grid_template_columns": null,
            "grid_template_rows": null,
            "height": null,
            "justify_content": null,
            "justify_items": null,
            "left": null,
            "margin": null,
            "max_height": null,
            "max_width": null,
            "min_height": null,
            "min_width": null,
            "object_fit": null,
            "object_position": null,
            "order": null,
            "overflow": null,
            "overflow_x": null,
            "overflow_y": null,
            "padding": null,
            "right": null,
            "top": null,
            "visibility": null,
            "width": null
          }
        },
        "f30dfd5c27044fdea79e654a1a7e9c09": {
          "model_module": "@jupyter-widgets/controls",
          "model_module_version": "1.5.0",
          "model_name": "ProgressStyleModel",
          "state": {
            "_model_module": "@jupyter-widgets/controls",
            "_model_module_version": "1.5.0",
            "_model_name": "ProgressStyleModel",
            "_view_count": null,
            "_view_module": "@jupyter-widgets/base",
            "_view_module_version": "1.2.0",
            "_view_name": "StyleView",
            "bar_color": null,
            "description_width": ""
          }
        }
      }
    }
  },
  "nbformat": 4,
  "nbformat_minor": 0
}
