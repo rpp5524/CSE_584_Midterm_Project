{
 "cells": [
  {
   "cell_type": "code",
   "execution_count": 2,
   "metadata": {},
   "outputs": [],
   "source": [
    "import pandas as pd"
   ]
  },
  {
   "cell_type": "code",
   "execution_count": 4,
   "metadata": {},
   "outputs": [],
   "source": [
    "df = pd.read_csv(\"../data/stanford_corpus/complete_stanford_corpus.csv\")\n",
    "\n",
    "sampled_df = df[['Initial Text']].sample(n=2000, random_state=42)\n",
    "\n",
    "# Save the sampled dataframe to a new CSV file\n",
    "sampled_df.to_csv('../data/stanford_corpus/subset_stanford_corpus.csv', index=False)"
   ]
  },
  {
   "cell_type": "code",
   "execution_count": 9,
   "metadata": {},
   "outputs": [
    {
     "name": "stdout",
     "output_type": "stream",
     "text": [
      "                                        Initial text  \\\n",
      "0  Classification problems are central to many ap...   \n",
      "1  Lifelong learning policies aim to create a ski...   \n",
      "2        Bayesian methods are widely used in machine   \n",
      "3  The European Commission declared 1996 as the E...   \n",
      "4  Classification problems are central to many ap...   \n",
      "\n",
      "                                   Complete sentence  \n",
      "0  Classification problems are central to many ap...  \n",
      "1  Lifelong learning policies aim to create a ski...  \n",
      "2  Bayesian methods are widely used in machine le...  \n",
      "3  The European Commission declared 1996 as the E...  \n",
      "4  Classification problems are central to many ap...  \n"
     ]
    }
   ],
   "source": [
    "df = pd.read_csv(\"../data/research_corpus/cleaned_Corpus.csv\")\n",
    "print(df.head())\n",
    "\n",
    "sampled_df = df[[\"Initial text\"]].copy()\n",
    "\n",
    "# Save the sampled dataframe to a new CSV file\n",
    "sampled_df.to_csv('../data/research_corpus/cleaned_Corpus_1.csv', index=False)"
   ]
  },
  {
   "cell_type": "code",
   "execution_count": null,
   "metadata": {},
   "outputs": [],
   "source": []
  }
 ],
 "metadata": {
  "kernelspec": {
   "display_name": "Python 3",
   "language": "python",
   "name": "python3"
  },
  "language_info": {
   "codemirror_mode": {
    "name": "ipython",
    "version": 3
   },
   "file_extension": ".py",
   "mimetype": "text/x-python",
   "name": "python",
   "nbconvert_exporter": "python",
   "pygments_lexer": "ipython3",
   "version": "3.12.1"
  }
 },
 "nbformat": 4,
 "nbformat_minor": 2
}
