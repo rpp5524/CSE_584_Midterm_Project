{
 "cells": [
  {
   "cell_type": "code",
   "execution_count": 28,
   "metadata": {},
   "outputs": [],
   "source": [
    "import os\n",
    "import google.generativeai as genai\n",
    "from google.generativeai.types import HarmCategory, HarmBlockThreshold\n",
    "\n",
    "def get_prompt(sentence):\n",
    "    prompt = \"\"\"You are an expert sentence completion bot. I will provide you with incomplete sentences. Your job is to complete these sentences in 1 or 2 lines. Also, the output should just be the remaining part of the sentence and not the entire sentence. I am providing you with a few examples of input and expected output. Example 1: \n",
    "    input: The rain was\n",
    "    output: going to flood the entire city\n",
    "    Example 2: \n",
    "    input: The party was about to end after\n",
    "    output: the birthday cake was distributed\n",
    "    Example 3:\n",
    "    input: Jack fought with him because\n",
    "    output: he was insecure and jealous\n",
    "    Now it is your turn, complete this sentence and provide me only the remaining part of the sentence: \"\"\" \n",
    "    \n",
    "    prompt += sentence\n",
    "    \n",
    "    return prompt\n",
    "\n",
    "genai.configure(api_key=\"\")\n",
    "\n",
    "def main(prompt):\n",
    "    # Create the model\n",
    "    generation_config = {\n",
    "    \"temperature\": 0.2,\n",
    "    \"top_p\": 0.9,\n",
    "    \"top_k\": 0,\n",
    "    \"max_output_tokens\": 8192,\n",
    "    \"response_mime_type\": \"text/plain\",\n",
    "    }\n",
    "\n",
    "    model = genai.GenerativeModel(\n",
    "        model_name=\"gemini-1.5-flash\",\n",
    "        generation_config=generation_config,\n",
    "        safety_settings={\n",
    "            HarmCategory.HARM_CATEGORY_HATE_SPEECH: HarmBlockThreshold.BLOCK_NONE,\n",
    "            HarmCategory.HARM_CATEGORY_HARASSMENT: HarmBlockThreshold.BLOCK_NONE,\n",
    "            HarmCategory.HARM_CATEGORY_SEXUALLY_EXPLICIT: HarmBlockThreshold.BLOCK_NONE,\n",
    "            HarmCategory.HARM_CATEGORY_DANGEROUS_CONTENT: HarmBlockThreshold.BLOCK_NONE,\n",
    "        }\n",
    "    )\n",
    "\n",
    "    chat_session = model.start_chat(\n",
    "        history=[\n",
    "        ]\n",
    "    )\n",
    "\n",
    "    response = chat_session.send_message(prompt)\n",
    "\n",
    "    return response.text"
   ]
  },
  {
   "cell_type": "code",
   "execution_count": 30,
   "metadata": {},
   "outputs": [
    {
     "name": "stdout",
     "output_type": "stream",
     "text": [
      "Incomplete Sentence 1: Two guys with red capes ride\n",
      "Complete Sentence 1: on motorcycles through the city streets.  \n",
      "Incomplete Sentence 2: Looking down from the top of a cliff, a man is climbing the cliff\n",
      "Complete Sentence 2: ...with ropes and climbing gear, determined to reach the summit.  \n",
      "Incomplete Sentence 3: A woman wearing a gray shirt and blue\n",
      "Complete Sentence 3: jeans walked into the cafe.  \n",
      "Incomplete Sentence 4: Fathers reach out to their children encouraging them\n",
      "Complete Sentence 4: to pursue their dreams and be the best versions of themselves.  \n",
      "Incomplete Sentence 5: A man is taking a swing with his\n",
      "Complete Sentence 5: golf club, aiming for the ball on the tee.  \n",
      "Incomplete Sentence 6: Two men are walking up a ramp while a third walks\n",
      "Complete Sentence 6: down the stairs.  \n",
      "Incomplete Sentence 7: A women's roller derby\n",
      "Complete Sentence 7: is a fast-paced, high-energy sport full of athleticism and strategy.  \n",
      "Incomplete Sentence 8: Two men are at the beach\n",
      "Complete Sentence 8: enjoying the sunset and discussing their dreams for the future.  \n",
      "Incomplete Sentence 9: A man in a red, short-sleeved shirt sits\n",
      "Complete Sentence 9: on a park bench, feeding pigeons.  \n",
      "Incomplete Sentence 10: A woman runs on\n",
      "Complete Sentence 10: the beach, her laughter echoing in the salty air.  \n",
      "Incomplete Sentence 11: A man holding a flute and a boy sit\n",
      "Complete Sentence 11: on a park bench, the man playing a cheerful tune.  \n",
      "Checkpoint saved after processing batch 143\n",
      "Final dataset saved.\n"
     ]
    }
   ],
   "source": [
    "import pandas as pd\n",
    "import time\n",
    "import csv  # To handle proper quoting of CSV\n",
    "\n",
    "# time.sleep(60)  # Pause for 60 seconds\n",
    "\n",
    "val = 1989\n",
    "\n",
    "df = pd.read_csv(f\"./gemini_1.5_checkpoint_{val}.csv\")\n",
    "\n",
    "# Define batch size\n",
    "batch_size = 14\n",
    "\n",
    "# Initialize list to store responses for 'Xj'\n",
    "second_part = []\n",
    "count = 1\n",
    "checkpoint_interval = batch_size  # Saving after every 14 requests (batch size)\n",
    "\n",
    "# Loop over the DataFrame in batches of 14\n",
    "for i in range(val, len(df), batch_size):\n",
    "    batch = df.iloc[i:i + batch_size]\n",
    "    \n",
    "    for index, row in batch.iterrows():\n",
    "        prompt = get_prompt(row['Xi'])  # Get the prompt from 'Xi'\n",
    "        # Replace newlines with spaces and remove double quotes\n",
    "        response = main(prompt).replace('\\n', ' ').replace('\"', '')  \n",
    "        second_part.append(response)  # Store the response for 'Xj'\n",
    "\n",
    "        print(f\"Incomplete Sentence {count}: {row['Xi']}\")\n",
    "        print(f\"Complete Sentence {count}: {response}\")\n",
    "        count += 1\n",
    "\n",
    "    # Save DataFrame before every sleep to avoid losing data\n",
    "    df.loc[i:i + batch_size - 1, 'Xj'] = second_part[-batch_size:]  # Store the last batch in 'Xj'\n",
    "    df.loc[i:i + batch_size - 1, 'model'] = 'gemini-1.5-flash'  # Add 'model' column\n",
    "    \n",
    "    # Save checkpoint after each batch\n",
    "    df.to_csv(f\"gemini_1.5_checkpoint_{i + batch_size}.csv\", index=False, quoting=csv.QUOTE_ALL)\n",
    "    print(f\"Checkpoint saved after processing batch {i // batch_size + 1}\")\n",
    "\n",
    "    # Wait for 60 seconds to avoid rate limits after each batch\n",
    "    if i + batch_size < len(df):\n",
    "        print(\"Waiting for 60 seconds to avoid rate limit...\")\n",
    "        print(f\"Length of incompleted_sentences: {len(second_part)}\")\n",
    "        time.sleep(60)  # Pause for 60 seconds\n",
    "\n",
    "# Save the final DataFrame to CSV\n",
    "df.to_csv(\"gemini-1.5-flash_final.csv\", index=False, quoting=csv.QUOTE_ALL)\n",
    "print(\"Final dataset saved.\")\n"
   ]
  },
  {
   "cell_type": "code",
   "execution_count": 20,
   "metadata": {},
   "outputs": [
    {
     "name": "stdout",
     "output_type": "stream",
     "text": [
      "[['A black dog running'], ['A man looking through a microscope while'], ['A married woman in'], ['A little girl putting a red'], ['Four young men, wearing hats, in their bare'], ['A group of people'], ['A blond man with a backpack'], ['Several people on a'], ['A man is talking into a mic while a woman looks at'], ['A man sits on a bed reading'], ['A child is playing near a swing set,'], ['A few small children are smiling, and one is'], ['Two little girls in front of'], ['A father is giving his child'], ['A group of people'], ['A woman laying down in front of the doors to'], ['Children are dressed'], ['A man wearing a blue shirt, blue cap, and jeans is'], ['Black dog running with'], ['A man is teaching a class of young children to balance a ball that is'], ['A man is kneeling down on the'], ['A boy looks up'], ['A person guarding'], ['There is one individual in this image with a hard hat om and'], ['The back of a young boy who is wearing'], ['Several people in white shirts and ties are looking out of a window,'], ['People walking around a dirt covered lot with a white'], ['A person in red is lying on a bench in a park,'], ['A person cuts paper in front of'], ['A lady in blue long shorts and carrying a bag is glancing'], ['A young male is sitting on a'], ['A man in a white shirt is walking a'], ['George Bush standing'], ['A group of'], ['Three men sitting on a couch and eating food'], ['One person jumping his bike towards the camera while another one in the'], ['A boat selling along side'], ['A'], ['Two racing dogs round a turn'], ['A man in white and red with sunglasses carrying'], ['Young people stand underneath'], ['A man demonstrating how high his'], ['A man in a blue shirt places'], ['skier in red pants'], ['Men, woman and children gathering around'], ['There is a dog'], ['A woman lays her head down on a pillow'], ['Three people take a lift up the mountain in'], ['A woman with a black shirt on'], ['A girl in a white dress'], ['A man paddles on'], ['A skateboarder does a tailslide down the side'], ['a soldier crouches next to his armored'], ['Two women and a man are'], ['a young topless man wearing sunglasses and'], ['A woman in a puffy red jacket poses for'], ['A young man is taking pictures of'], ['A man gestures while facing a woman wearing glasses as they sit'], ['A man in the library is reading'], ['A dog on snow has'], ['A soccer player is'], ['An Asian woman in black clothing is'], ['A dog catches a colored ball'], ['A man dressed in dark colors and a hat plays'], ['Two women look at a group'], ['People sitting at'], ['Two wrestlers and'], ['A white and tan dog runs'], ['Four men sit on the found in'], ['A small group of people walk'], ['An elderly train conductor, dressed in black'], ['A Young African American boy wearing a blue baseball cap gazes through a'], ['People pass each other on a busy city'], ['A skier in mid-jump doing a twist'], ['Three Amish women are'], ['A white double horned goat standing on a platform looking at two young boys, one in'], ['Four people are sitting on a rock'], ['A white woman is giving a'], ['The black and white dog leaps'], ['Children are playing'], ['Five boys, three wearing'], ['Young pretty blond women holding a tennis racket dressed'], ['A man sitting alone in meditation'], ['A man and a woman wearing coats are facing standing outside facing'], ['A girl is pointing to a spot'], ['The soccer player wearing the gold jersey is blocking'], ['A celebration with'], ['A hiker walks on rocky ground at'], ['Young boy wearing denim shorts'], ['A boy playing with'], ['Several people on horses are all in'], ['The person in yellow'], ['A crowd scene with people in'], ['Man with cane sits next to'], ['Large brown dog playing with a'], ['A bookstore named \"Shakespeare and Company\" has several persons'], ['Workers walk along railroad'], ['The young man leaning against a brick wall with a bag of'], ['A couple walking along side a'], ['A man wearing a white shirt and dark pants is standing at the railing']]\n"
     ]
    }
   ],
   "source": [
    "batch_size = 100\n",
    "for i in range(15, len(df), batch_size):\n",
    "    batch_df = df.iloc[i:i+batch_size]\n",
    "    print(batch_df.values.tolist())\n",
    "    break\n"
   ]
  },
  {
   "cell_type": "code",
   "execution_count": 18,
   "metadata": {},
   "outputs": [
    {
     "name": "stdout",
     "output_type": "stream",
     "text": [
      "['Xi']\n"
     ]
    }
   ],
   "source": [
    "print(list(batch))"
   ]
  },
  {
   "cell_type": "code",
   "execution_count": null,
   "metadata": {},
   "outputs": [],
   "source": []
  }
 ],
 "metadata": {
  "kernelspec": {
   "display_name": "Python 3",
   "language": "python",
   "name": "python3"
  },
  "language_info": {
   "codemirror_mode": {
    "name": "ipython",
    "version": 3
   },
   "file_extension": ".py",
   "mimetype": "text/x-python",
   "name": "python",
   "nbconvert_exporter": "python",
   "pygments_lexer": "ipython3",
   "version": "3.12.1"
  }
 },
 "nbformat": 4,
 "nbformat_minor": 2
}
